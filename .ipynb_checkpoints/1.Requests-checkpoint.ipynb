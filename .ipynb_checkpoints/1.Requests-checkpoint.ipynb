{
 "cells": [
  {
   "cell_type": "markdown",
   "metadata": {},
   "source": [
    "# Chapter1 Requests\n",
    "## 1. Requests 모듈이란?\n",
    "Requests 모듈은 Python의 HTTP Request를 지원하는 라이브러리입니다.  \n",
    "  \n",
    "Requests 모듈을 사용하기 앞서, HTTP 통신에 대해 먼저 알아보도록 하겠습니다.  \n",
    "### 1-1. HTTP Communication\n",
    "HTTP 통신은 Client와 Server사이에서 발생합니다.  \n",
    "작년에 동아리에서 진행했던 Node.js 스터디 자료를 참고하도록 하겠습니다. [(링크)](https://github.com/JJuOn/2019-Node.js-Study/tree/master/5.%20Express#1-http-%ED%86%B5%EC%8B%A0)  \n",
    "  \n",
    "언어간에 HTTP Request를 하는 방법은 차이가 있겠지만 기본적으로 HTTP 통신방식을 사용하는 이상 구조는 동일하다는 것을 유념하셔야 합니다.  \n",
    "\n",
    "## 2. Requests 모듈 시작하기\n",
    "우선 requests 모듈이 설치되었는지 확인해 보도록 하겠습니다.  \n",
    "\n",
    "CMD 혹은 Powershell을 연 다음에 다음 명령어를 통하여 requests 모듈이 설치 되었는 지 확인할 수 있습니다.  \n",
    "pip 환경에서는\n",
    "```bash\n",
    "pip list | findstr requests\n",
    "```\n",
    "conda 환경에서는 \n",
    "```bash\n",
    "conda list | findstr requests\n",
    "```\n",
    "로 확인할 수 있습니다.  \n",
    "\n",
    "만약 설치되지 않았다면 다음의 명령어를 통하여 requests 모듈을 설치해 봅시다.  \n",
    "pip 환경에서는\n",
    "```bash\n",
    "pip install requests\n",
    "```\n",
    "conda 환경에서는\n",
    "```bash\n",
    "conda install requests\n",
    "```\n",
    "\n",
    "설치가 완료되었다면 아래의 셀을 실행하여 requests 모듈을 import 해봅시다.  "
   ]
  },
  {
   "cell_type": "code",
   "execution_count": 1,
   "metadata": {},
   "outputs": [],
   "source": [
    "import requests"
   ]
  },
  {
   "cell_type": "markdown",
   "metadata": {},
   "source": [
    "## 3. GET과 POST\n",
    "requests 모듈을 이용해서 주로 사용하는 함수는  \n",
    "requests.get()과 requests.post()입니다.  \n",
    "두 함수 모두 HTTP request를 실행하는 기능을 가집니다.  \n",
    "\n",
    "그럼 두 함수는 어떤 경우에서 다르게 쓸까요?  \n",
    "HTTP method가 GET 이면 requests.get()을, POST이면 requests.post()를 사용합니다.  \n",
    "\n",
    "POST 방식은 호출하려는 API가 데이터의 생성에 관여하는 경우 혹은 회원가입이나 로그인처럼  \n",
    "GET과는 다르게 데이터가 request의 body에 담아 전송되어야 하는 경우에 사용되며,  \n",
    "\n",
    "GET 방식은 POST를 사용하지 않는 경우의 나머지라고 말해도 될 정도로 상당수를 차지하고 있습니다.  \n",
    "\n",
    "requests.get()의 사용법은 다음과 같습니다.  \n",
    "```python3\n",
    "response=requests.get('url',params=dict,headers=dict,cookies=dict)\n",
    "```\n",
    "\n",
    "'url'에 해당하는 부분에 HTTP request를 날리고자 하는 url을 입력해 주시고,  \n",
    "만약에 쿼리 스트링을 함께 표현하고자 하는 경우에는 params에 dict로 함수 인자를 주면 됩니다.  \n",
    "또한 user-agent와 같은 header를 수정하고 싶은 경우에는 headers에,  \n",
    "쿠키를 함께 담아 요청하고 싶은 경우에는 cookies에 각각 dict로 함수인자를 주면 됩니다.  \n",
    "\n",
    "추가적인 정보는 다음 링크를 참고해주세요.  \n",
    "([Query String](https://ysoh.tistory.com/entry/Query-String), [Header](https://gmlwjd9405.github.io/2019/01/28/http-header-types.html), [Cookie](https://ko.wikipedia.org/wiki/HTTP_%EC%BF%A0%ED%82%A4))  \n",
    "\n",
    "우선 가장 친숙한 네이버의 메인 페이지(https://www.naver.com) 를 요청해보도록 하겠습니다.  "
   ]
  },
  {
   "cell_type": "code",
   "execution_count": null,
   "metadata": {},
   "outputs": [],
   "source": [
    "response=requests.get('https://www.naver.com')\n",
    "print(response.status_code)\n",
    "print(response.text)"
   ]
  },
  {
   "cell_type": "markdown",
   "metadata": {},
   "source": [
    "위 실행 결과로부터 status_code가 OK을 의미하는 200을 가지고,  \n",
    "response.text를 통해 네이버 메인 화면의 html 소스를 읽어올 수 있었습니다.  \n",
    "해당 html 소스에서 원하는 부분을 추출하는 방법은 다음 장인 BeautifulSoup4에서 다루도록 하겠습니다.  \n",
    "\n",
    "이번엔 네이버 검색을 활용하도록 하겠습니다.  \n",
    "네이버 검색창에 '경희대학교'를 검색한 후 페이지의 주소는 다음과 같습니다.  \n",
    "```\n",
    "https://search.naver.com/search.naver?sm=top_hty&fbm=0&ie=utf8&query=경희대학교\n",
    "```\n",
    "주소의 쿼리 스트링을 유심히 살펴보면 query에 해당하는 값이 이전에 검색하기 위해 입력했던 문자열임을 유추할 수 있습니다.  \n",
    "이를 토대로 사용자로부터 문자열을 입력받고 해당 문자열을 네이버를 통해 검색하는 소스코드를 실행해 봅시다.  "
   ]
  },
  {
   "cell_type": "code",
   "execution_count": null,
   "metadata": {},
   "outputs": [],
   "source": [
    "keyword=input('검색어를 입력해 주세요: ')\n",
    "response=requests.get('https://search.naver.com/search.naver',params={'sm':'top_hty','fbm':'0','ie':'utf8','query':keyword})\n",
    "response.text"
   ]
  },
  {
   "cell_type": "markdown",
   "metadata": {},
   "source": [
    "이번에는 POST method에 대해 다뤄보도록 하겠습니다.  \n",
    "requests.post()의 사용법은 다음과 같습니다.  \n",
    "```python3\n",
    "response=requests.post('url',data=dict,...)\n",
    "```\n",
    "POST 요청은 에브리타임 로그인을 실습해보도록 하겠습니다.  \n",
    "\n",
    "에브리타임 로그인은 다음의 순서로 진행됩니다.  \n",
    "1. 사용자가 http://everytime.kr/login 에 접속한다. 이때 브라우저별로 새로운 쿠키가 발급된다.\n",
    "1. 사용자가 아이디와 비밀번호를 입력한 후 로그인 버튼을 누르면 http://everytime.kr/user/login 에 {'userid':'아이디','password':'비밀번호','redirect':'/'}의 정보와 쿠키가 담겨 POST 요청이 간다.\n",
    "1. 로그인이 성공하면 서버측에서는 사용자가 제공했던 쿠키가 로그인된 사용자라고 표시한 후에 사용자를 http://everytime.kr 로 다시 이동한다.\n",
    "1. 로그인된 사용자가 보는 메인 페이지와 로그인되지 않은 사용자가 보는 everytime.kr는 다르다.\n",
    "\n",
    "우선 아래 코드를 실행해 봅시다.  "
   ]
  },
  {
   "cell_type": "code",
   "execution_count": 2,
   "metadata": {},
   "outputs": [
    {
     "name": "stdout",
     "output_type": "stream",
     "text": [
      "<RequestsCookieJar[]>\n"
     ]
    }
   ],
   "source": [
    "s=requests.Session()\n",
    "response=s.get('https://everytime.kr/login')\n",
    "print(response.cookies)"
   ]
  },
  {
   "cell_type": "markdown",
   "metadata": {},
   "source": [
    "사용자의 로그인 유지는 세션을 통해 이루어집니다.  \n",
    "첫번째 줄은 requests의 Session 객체를 생성하는 코드입니다.  \n",
    "두번째 줄은 get 요청을 하여 초기 쿠키를 받아 옵니다.  \n",
    "\n",
    "이전과 다른 점은 requests.get()이 아닌, s.get()이라는 점입니다.  \n",
    "Session 객체를 통해 쿠키와 세션을 유지할 수 있게 됩니다.\n",
    "\n",
    "추후 로그인을 진행할 때 사용할 쿠키는 response.cookies에 있습니다.  "
   ]
  },
  {
   "cell_type": "code",
   "execution_count": 4,
   "metadata": {},
   "outputs": [
    {
     "name": "stdout",
     "output_type": "stream",
     "text": [
      "아이디:jwseo001\n",
      "비밀번호:········\n"
     ]
    },
    {
     "data": {
      "text/plain": [
       "'<!DOCTYPE html><html lang=\"ko\"><head>  <title>에브리타임</title>  <meta charset=\"utf-8\">  <meta name=\"referrer\" content=\"origin\">  <meta http-equiv=\"X-UA-Compatible\" content=\"IE=edge\">  <meta property=\"fb:app_id\" content=\"258676027581965\">  <meta property=\"og:type\" content=\"website\">  <meta property=\"og:image\" content=\"https://everytime.kr/images/og_image.png\">  <meta property=\"og:url\" content=\"https://everytime.kr/\">  <meta property=\"og:site_name\" content=\"에브리타임\">  <meta property=\"og:title\" content=\"에브리타임\">  <meta property=\"og:description\" content=\"전국 400개 대학을 지원하는 대학교 커뮤니티 및 시간표 서비스. 시간표 작성 및 학업 관리, 학교 생활 정보, 학교별 익명 커뮤니티 기능을 제공합니다.\">  <meta name=\"description\" content=\"전국 400개 대학을 지원하는 대학교 커뮤니티 및 시간표 서비스. 시간표 작성 및 학업 관리, 학교 생활 정보, 학교별 익명 커뮤니티 기능을 제공합니다.\">  <meta name=\"keywords\" content=\"에브리타임, 에타, everytime, 시간표, 수강신청, 강의평가, 학점계산기, 학식, 오늘의학식, 책방, 중고책, 대학생, 대학교, 대학, 대학생 시간표, 대학교 시간표, 대학생 커뮤니티, 대학교 커뮤니티, 시간표 앱, 시간표 어플\">  <meta name=\"naver-site-verification\" content=\"7366738375e320e44bd1c743b364db13086a7b0e\">  <link type=\"text/css\" href=\"/css/common.css\" rel=\"stylesheet\">  <link type=\"text/css\" href=\"/css/common.partial.css\" rel=\"stylesheet\">  <link type=\"text/css\" href=\"/css/container.community.css\" rel=\"stylesheet\">  <link type=\"text/css\" href=\"/css/container.modal.css\" rel=\"stylesheet\">  <link href=\"/favicon.ico\" rel=\"shortcut icon\">  <!--[if lt IE 9]>  <script src=\"/js/extensions.html5shiv.js\"></script>  <script src=\"/js/extensions.respond.min.js\"></script>  <script src=\"/js/extensions.excanvas.min.js\"></script>  <![endif]-->  <!--[if lt IE 8]>  <script src=\"/js/extensions.json3.min.js\"></script>  <![endif]-->  <script type=\"text/javascript\" src=\"/js/extensions.jquery-1.10.2.min.js\"></script>  <script type=\"text/javascript\" src=\"/js/extensions.underscore-min.js\"></script>  <script type=\"text/javascript\" src=\"/js/common.js\"></script>  <script type=\"text/javascript\" src=\"/js/community.side.js\"></script>  <script type=\"text/javascript\" src=\"/js/community.index.js\"></script>  <script type=\"text/javascript\" src=\"/js/board.transferrequest.js\"></script></head><body><nav>    <div class=\"wrap\">      <div id=\"logo\">        <a href=\"/\"><img src=\"/images/new/nav.logo.png\"></a>        <p><span class=\"name multiple\">에브리타임</span><span class=\"subname\">경희대</span></p>      </div>      <div id=\"account\">        <a href=\"/message\" title=\"쪽지함\" class=\"icon message\">쪽지함</a></li>        <a href=\"/my\" title=\"내 정보\" class=\"icon my\">내 정보</a>        <input type=\"hidden\" id=\"userUserid\" value=\"jwseo001\">        <input type=\"hidden\" id=\"userSchool\" value=\"5\">        <input type=\"hidden\" id=\"userCampus\" value=\"8\">      </div>      <ul id=\"menu\">        <li class=\"active\"><a href=\"/\">게시판</a></li>        <li><a href=\"/timetable\">시간표</a></li>        <li><a href=\"/lecture\">강의평가</a></li>        <li><a href=\"/calculator\">학점계산기</a></li>        <li><a href=\"/friend\">친구</a></li>        <li><a href=\"https://bookstore.everytime.kr/\">책방</a></li>        <li><a href=\"https://www.campuspick.com/\">캠퍼스픽</a></li>      </ul>    </div>  </nav><div id=\"submenu\"><div class=\"wrap\"><div class=\"divider\"></div><div class=\"group\"><ul><li><a href=\"/370441\" data-id=\"370441\" class=\"new\">국제캠 자유게시판</a></li><li><a href=\"/370442\" data-id=\"370442\" class=\"new\">서울캠 자유게시판</a></li><li><a href=\"/375123\" data-id=\"375123\" class=\"new\">비밀게시판</a></li><li><a href=\"/386029\" data-id=\"386029\" class=\"new\">졸업생게시판</a></li><li><a href=\"/375127\" data-id=\"375127\" class=\"new\">새내기게시판</a></li><li><a href=\"/370463\" data-id=\"370463\" class=\"new\">국제캠 장터게시판</a></li><li><a href=\"/420102\" data-id=\"420102\" class=\"new\">서울캠 장터게시판</a></li></ul></div><div class=\"group\"><ul><li><a href=\"/375124\" data-id=\"375124\" class=\"new\">홍보게시판</a></li><li><a href=\"/418757\" data-id=\"418757\" class=\"new\">동아리·학회</a></li></ul></div><div class=\"divider\"></div><div class=\"group\"><ul><li><a href=\"/375125\" data-id=\"375125\" class=\"new\">정보게시판</a></li><li><a href=\"/375126\" data-id=\"375126\" class=\"new\">취업·진로</a></li><li><a href=\"/390480\" data-id=\"390480\" class=\"new\">공무원 공부하는 공시생들의 모임</a></li><li><a href=\"/397121\" data-id=\"397121\" class=\"new\">회계사 준비하는 모임(회준모)</a></li><li><a href=\"/405805\" data-id=\"405805\" class=\"new\">세무사 준비하는 모임(세준모)</a></li><li><a href=\"/396767\" data-id=\"396767\">대학원 준비생 게시판</a></li><li><a href=\"/412045\" data-id=\"412045\" class=\"new\">경희인 로스쿨</a></li></ul></div><div class=\"divider\"></div><div class=\"group\"><ul><li><a href=\"/452942\" data-id=\"452942\" class=\"new\">총학생회</a></li><li><a href=\"/406057\" data-id=\"406057\">중앙동아리연합회</a></li></ul></div><div class=\"divider\"></div><div class=\"group\"><ul><li><a href=\"/372147\" data-id=\"372147\" class=\"new\">KIC</a></li><li><a href=\"/258280\" data-id=\"258280\" class=\"new\">경희의 연애</a></li><li><a href=\"/388238\" data-id=\"388238\" class=\"new\">경희대 헬스 게시판</a></li><li><a href=\"/367125\" data-id=\"367125\" class=\"new\">경희대 경제학도</a></li><li><a href=\"/385563\" data-id=\"385563\" class=\"new\">에브리주식🏅</a></li><li><a href=\"/435187\" data-id=\"435187\" class=\"new\">경희의 소개팅</a></li><li><a href=\"/386930\" data-id=\"386930\" class=\"new\">경희 우울증</a></li></ul></div><div class=\"group\"><ul><li><a href=\"/450643\" data-id=\"450643\" class=\"new\">경희대 여학우들 모여랏-🥰</a></li><li><a href=\"/375699\" data-id=\"375699\" class=\"new\">경희대 퀴어 게시판</a></li><li><a href=\"/371981\" data-id=\"371981\" class=\"new\">분노의 다이어트</a></li><li><a href=\"/377234\" data-id=\"377234\" class=\"new\">경희대 욕레기통</a></li><li><a href=\"/394720\" data-id=\"394720\" class=\"new\">메이플스토리 게시판</a></li><li><a href=\"/405890\" data-id=\"405890\" class=\"new\">경희대 경영대 모여라~</a></li><li><a href=\"/453467\" data-id=\"453467\" class=\"new\">모여봐요 동물의숲 🍃</a></li></ul></div><div class=\"group\"><ul><li><a href=\"/380149\" data-id=\"380149\" class=\"new\">경희 아재개그</a></li><li><a href=\"/375333\" data-id=\"375333\" class=\"new\">숨덕부</a></li><li><a href=\"/373980\" data-id=\"373980\" class=\"new\">응용화학과 화이팅</a></li><li><a href=\"/395080\" data-id=\"395080\" class=\"new\">경희대 여성퀴어</a></li><li><a href=\"/450089\" data-id=\"450089\" class=\"new\">경희의 띵곡</a></li><li><a href=\"/410132\" data-id=\"410132\" class=\"new\">릴레이 소설 게시판</a></li><li><a class=\"more\">더 보기</a></li></ul></div><div class=\"group hidden\"><ul><li><a href=\"/460213\" data-id=\"460213\" class=\"new\">🎤경희대 MBTI 게시판🎤</a></li><li><a href=\"/405142\" data-id=\"405142\" class=\"new\">경희대 영어학부</a></li><li><a href=\"/400091\" data-id=\"400091\" class=\"new\">유전공학과 게시판✨</a></li><li><a href=\"/445117\" data-id=\"445117\" class=\"new\">세계로 가는 경희🌏</a></li><li><a href=\"/451674\" data-id=\"451674\" class=\"new\">경희대 지리학과</a></li><li><a href=\"/374418\" data-id=\"374418\" class=\"new\">자취요리</a></li><li><a href=\"/407921\" data-id=\"407921\" class=\"new\">>> NCT 게시판 &lt;&lt;</a></li></ul></div><div class=\"group hidden\"><ul><li><a href=\"/386618\" data-id=\"386618\" class=\"new\">방탄소년단(BTS) 게시판</a></li><li><a href=\"/412397\" data-id=\"412397\" class=\"new\">MDP 수험생 모임</a></li><li><a href=\"/384613\" data-id=\"384613\" class=\"new\">호에에 자유게시판</a></li><li><a href=\"/453571\" data-id=\"453571\">Netflix</a></li><li><a href=\"/398967\" data-id=\"398967\" class=\"new\">냥냥냥 게양이 냥시판</a></li><li><a href=\"/457828\" data-id=\"457828\" class=\"new\">선바게시판</a></li><li><a href=\"/380218\" data-id=\"380218\" class=\"new\">데이식스(day6)</a></li></ul></div><div class=\"group hidden\"><ul><li><a href=\"/398963\" data-id=\"398963\" class=\"new\">엑소(EXO) 게시판 ❤️</a></li><li><a href=\"/428603\" data-id=\"428603\" class=\"new\">연극뮤지컬 게시판</a></li><li><a href=\"/458086\" data-id=\"458086\">되는사람</a></li><li><a href=\"/369389\" data-id=\"369389\">책살래팔래</a></li><li><a href=\"/375309\" data-id=\"375309\" class=\"new\">하늘과 바람과 별과 시</a></li><li><a href=\"/375996\" data-id=\"375996\">경희대 리듬게임 게시판</a></li><li><a href=\"/390242\" data-id=\"390242\">오늘의 게임</a></li></ul></div><div class=\"group hidden\"><ul><li><a href=\"/435601\" data-id=\"435601\">오버워치 리그 같이볼사람</a></li><li><a href=\"/381940\" data-id=\"381940\" class=\"new\">Jesus Christ</a></li><li><a href=\"/391867\" data-id=\"391867\">아무말대잔치</a></li><li><a href=\"/400510\" data-id=\"400510\" class=\"new\">경희대 전자공학과</a></li><li><a href=\"/458718\" data-id=\"458718\" class=\"new\">외식/배달</a></li><li><a href=\"/401601\" data-id=\"401601\" class=\"new\">경희대 트위치게시판</a></li><li><a href=\"/369846\" data-id=\"369846\" class=\"new\">즐커행디</a></li></ul></div><div class=\"group hidden\"><ul><li><a href=\"/387245\" data-id=\"387245\" class=\"new\">책</a></li><li><a href=\"/399463\" data-id=\"399463\" class=\"new\">런런! 쿠키런 : 오븐브레이크</a></li><li><a href=\"/421504\" data-id=\"421504\" class=\"new\">세븐틴 게시판</a></li><li><a href=\"/458431\" data-id=\"458431\" class=\"new\">여기는 예디대</a></li><li><a href=\"/385737\" data-id=\"385737\" class=\"new\">인기 없는 경희인 모임</a></li><li><a href=\"/433754\" data-id=\"433754\" class=\"new\">몬스타엑스(MONSTA X) 게시판</a></li><li><a href=\"/461611\" data-id=\"461611\" class=\"new\">투모로우바이투게더 (TXT) 게시판✨</a></li></ul></div><div class=\"group hidden\"><ul><li><a href=\"/378959\" data-id=\"378959\">학식 리뷰 게시판</a></li><li><a href=\"/419949\" data-id=\"419949\" class=\"new\">뉴이스트(NU\\'EST) 게시판</a></li><li><a href=\"/454776\" data-id=\"454776\">행시준비하는사람들</a></li><li><a href=\"/388858\" data-id=\"388858\">레드벨벳 게시판 ♡</a></li><li><a href=\"/447181\" data-id=\"447181\">노무사하는 사람 모여라</a></li><li><a href=\"/community/search\" class=\"search\">게시판 찾기</a></li></ul></div><div class=\"divider\"></div><hr></div><input type=\"hidden\" id=\"communityCampusId\" value=\"8\"></div>  <div id=\"container\" class=\"community\">    <aside class=\"none\">      <form class=\"search\">        <input type=\"search\" name=\"keyword\" class=\"text\" placeholder=\"전체 게시판의 글을 검색하세요!\">      </form>      <div class=\"title\">        <a class=\"hamburger\"></a>        <h1>경희대 커뮤니티</h1>        <ol class=\"buttons\">          <li><a id=\"searchArticle\">글 검색</a></li>        </ol>      </div>    </aside>    <div class=\"banners\">      <a href=\"https://ad.everytime.kr/adClick?adToken=A8feDXSqjNq4ZBygNfAv5wiIkWyvBR55KWxCAPkydCXeAvoFYNIRHJ%2B3%2B8ABH70HmFBsqklG4IDMG4fEAPhpmOyJKs3UuINHPRtUwXcLqx3Pi%2FlWCdnY4Lb1O2rDpGzsX%2Fe93KUcE2gAgTtLWBxgMr2j6zPqWkqiCWWQauL4sB9B6YdcshkRTu2ZGNJQ40dm1b20wZ4oydre7SZEsAaJkPujFRhNa%2Bq0G2ITyLjDMT6zXOL9t54%2FpnzzOamuSGUC\"><img src=\"https://cf-eba.everytime.kr/20200511_ictintern_home.png\"></a>    </div>    <div class=\"leftside\">      <div class=\"card pconly\">        <form class=\"logged\">          <img src=\"https://cf-fpi.everytime.kr/0.png\" class=\"picture\">          <p class=\"nickname\">jwseo001</p>          <p class=\"school\">서주원</p>          <p class=\"school\">jwseo001</p>          <ul class=\"buttons\">            <li><a href=\"/my\">내 정보</a></li>            <li><a href=\"/user/logout\">로그아웃</a></li>          </ul>          <hr>        </form>      </div>      <div class=\"card\">        <div class=\"menus\">          <a href=\"/myarticle\" class=\"myarticle\">내가 쓴 글</a>          <a href=\"/mycommentarticle\" class=\"mycommentarticle\">댓글 단 글</a>          <a href=\"/myscrap\" class=\"myscrap\">내 스크랩</a>          <hr>        </div>      </div>      <div class=\"card\">        <div class=\"banner\">          <a href=\"https://ad.everytime.kr/adClick?adToken=iGhScMK7hoeIyos7pwnZuspiBAbvyCIfGFs1llJLPo8w0ZgNh5ByNtTqbT3aixSznY1HgTG2WQrwEADY1cxv8xvAno9zlPazgpjd7d3%2FGB3KJqDczmDHcZ0bTQBgxe4HMsCUtwTKt6y9OwHmLkfJ%2FyDYbi2GgAxmF7uGBxzfui5YF8UT5gdG%2FJB41eaRqk242n4yPakXx0oCrxlL%2BXT94DvSPi0D6lKKuQDhQ2zukFSAcSJFIEpsm2D2YnT8zIo4\"><img src=\"https://cf-eba.everytime.kr/20200511_etoosAnswer_A_card.jpg\"></a>        </div>      </div>      <div class=\"card\">        <div class=\"banner\">          <a href=\"https://ad.everytime.kr/adClick?adToken=iGhScMK7hoeIyos7pwnZuspiBAbvyCIfGFs1llJLPo8w0ZgNh5ByNtTqbT3aixSznY1HgTG2WQrwEADY1cxv8xvAno9zlPazgpjd7d3%2FGB3KJqDczmDHcZ0bTQBgxe4HMsCUtwTKt6y9OwHmLkfJ%2FyDYbi2GgAxmF7uGBxzfui6N7puoNW2KmjhDJGu2vLkaPhn%2B4A0gXes3G3mQ9sKlqjvqLhz0U9lD%2F1ecIF4mBqUQkhukXhcft%2BpG7gmsuqLg\"><img src=\"https://cf-eba.everytime.kr/20200511_buldak_challenge_B_card.jpg\"></a>        </div>      </div>      <div class=\"card\">        <div class=\"banner\">          <a href=\"https://ad.everytime.kr/adClick?adToken=iGhScMK7hoeIyos7pwnZuspiBAbvyCIfGFs1llJLPo8w0ZgNh5ByNtTqbT3aixSznY1HgTG2WQrwEADY1cxv8xvAno9zlPazgpjd7d3%2FGB3KJqDczmDHcZ0bTQBgxe4HMsCUtwTKt6y9OwHmLkfJ%2FyDYbi2GgAxmF7uGBxzfui7hc5fEMALNPWabblTKNJqFhN5T5c3pyGZKChJs7Sgp%2FgH5i83bqDR6gTrNVW024OYmrTd23R4GEulEdcjeIMaG\"><img src=\"https://cf-eba.everytime.kr/20200511_itsskin_card.jpg\"></a>        </div>      </div>    </div>    <div class=\"rightside\"></div>    <div class=\"main\"></div>    <form id=\"transferrequest\" class=\"modal\">      <a title=\"닫기\" class=\"close\"></a>      <h3>게시판 양도 요청</h3>      <p><strong class=\"nickname\"></strong>님이 <strong><a class=\"name\"></a></strong> 게시판의 관리자 권한을 양도하였습니다.</p>      <input type=\"button\" value=\"거절\" class=\"button\">      <input type=\"button\" value=\"수락\" class=\"button\">    </form>  </div><div id=\"bottom\">    <ul class=\"links\">      <li><a href=\"/page/serviceagreement\">이용약관</a></li>      <li><a href=\"/page/privacy\">개인정보처리방침</a></li>      <li><a href=\"/page/rules\">커뮤니티이용규칙</a></li>      <li><a href=\"/notice\">공지사항</a></li>      <li><a href=\"/page/faq\">문의하기</a></li>      <li class=\"copyright\"><a href=\"/\">&copy; 에브리타임</a></li>    </ul>  </div>  <script type=\"text/javascript\">    var _serverTime = 1589417257361;    var _clientTime = new Date().getTime();    var _diffTime = _clientTime - _serverTime;    var _apiServerUrl = \\'https://api.everytime.kr\\';  </script>  <script async src=\"https://www.googletagmanager.com/gtag/js?id=UA-22022140-4\"></script>  <script>    window.dataLayer = window.dataLayer || [];    function gtag(){dataLayer.push(arguments);}    gtag(\\'js\\', new Date());    gtag(\\'config\\', \\'UA-22022140-4\\');  </script></body></html>'"
      ]
     },
     "execution_count": 4,
     "metadata": {},
     "output_type": "execute_result"
    }
   ],
   "source": [
    "from getpass import getpass\n",
    "\n",
    "userid=input('아이디:')\n",
    "password=getpass('비밀번호:')\n",
    "\n",
    "response=s.post('https://everytime.kr/user/login',data={'userid':userid,'password':password,'redirect':'/'},allow_redirects=True)\n",
    "response.text.replace('\\t','').replace('\\n','')"
   ]
  },
  {
   "cell_type": "markdown",
   "metadata": {},
   "source": [
    "첫번째 줄의 getpass 모듈의 getpass 함수는 주로 command 환경에서 비밀번호를 입력받을 때 사용하는 모듈입니다.  \n",
    "input()과 getpass()를 통하여 각각 아이디와 비밀번호를 입력받습니다.  \n",
    "\n",
    "로그인 API는 POST 방식을 사용하기 때문에 s.post()를 사용합니다.  \n",
    "실제 로그인이 이루어지는 것 처럼 userid와 password, redirect가 key인 dict를 data로 하고,  \n",
    "로그인 후 redirect까지 고려하여야 하기 때문에 allow_redirects 옵션을 True로 설정합니다.  \n",
    "\n",
    "request를 날리고 response.text를 확인하면 자신의 대학 에브리타임의 메인 페이지가 나오는것을 알 수 있습니다.  \n",
    "\n",
    "### 3-1. JSON\n",
    "이번에는 requests 모듈을 통해 받은 response를 어떻게 사용하는 지 알아보도록 하겠습니다.  \n",
    "흔히 response의 형식은 웹 페이지를 요청한 경우엔 HTML, API를 요청한 경우에는 JSON 혹은 XML로 이루어져 있습니다.  \n",
    "\n",
    "HTML과 XML은 다음장 BeautifulSoup4에서 다룰 예정이기에 이번 장에서는 스킵하고,  \n",
    "JSON을 다루는 방법에 대해 설명하도록 하겠습니다.  \n",
    "\n",
    "JSON은 python의 dict와 매우 유사한 구조를 지니고 있습니다.(key-value 형식)  \n",
    "JSON에 대한 정보는 다음 [링크](https://velog.io/@surim014/JSON%EC%9D%B4%EB%9E%80-%EB%AC%B4%EC%97%87%EC%9D%B8%EA%B0%80)를 참고해주세요.  \n",
    "\n",
    "JSON은 json 모듈을 import 하여 다룹니다.  "
   ]
  },
  {
   "cell_type": "code",
   "execution_count": 2,
   "metadata": {
    "scrolled": true
   },
   "outputs": [],
   "source": [
    "import json"
   ]
  },
  {
   "cell_type": "markdown",
   "metadata": {},
   "source": [
    "JSON을 다루기 위해 JSON 형태로 response를 주는 간단한 API서버를 구축했습니다.  \n",
    "\n",
    "제공하는 API는 다음과 같습니다.  \n",
    "\n",
    "GET http://1.201.142.138/api/user/list 유저 정보 조회  \n",
    "POST http://1.201.142.138/api/user/create 유저 생성  \n",
    "\n",
    "우선 유저 생성부터 하겠습니다.  \n",
    "유저 정보에는 이름 이메일 전화번호가 들어갑니다.  \n",
    "다음 소스코드를 실행시켜 봅시다.  "
   ]
  },
  {
   "cell_type": "code",
   "execution_count": null,
   "metadata": {},
   "outputs": [],
   "source": [
    "name=input('이름을 입력하세요: ')\n",
    "email=input('이메일을 입력하세요: ')\n",
    "while not '@' in email or not '.' in email:\n",
    "    email=input('이메일의 형식이 올바르지 않습니다. 다시 입력해 주세요: ')\n",
    "phone=input('전화번호를 숫자만 입력하세요: ')\n",
    "while len(phone)!=11 or '-' in phone or not phone.isdigit():\n",
    "    phone=input('전화번호의 형식이 올바르지 않습니다. 다시 입력해 주세요: ')\n",
    "phone=phone[0:3]+'-'+phone[3:7]+'-'+phone[7:]\n",
    "\n",
    "response=requests.post('http://1.201.142.138/api/user/create',data={'name':name,'email':email,'phone':phone})\n",
    "response_json=json.loads(response.text)\n",
    "response_json"
   ]
  },
  {
   "cell_type": "markdown",
   "metadata": {},
   "source": [
    "위 소스코드는 /api/user/create에 POST 요청을 하고  \n",
    "response.text를 json.loads()라는 함수의 인자로 넣어주었습니다.  \n",
    "\n",
    "json.loads()가 하는 역할을 알아보기 위해 다음 셀을 실행해 봅시다.  "
   ]
  },
  {
   "cell_type": "code",
   "execution_count": null,
   "metadata": {},
   "outputs": [],
   "source": [
    "print(type(response.text))\n",
    "print(type(response_json))\n",
    "print(response_json['result'])"
   ]
  },
  {
   "cell_type": "markdown",
   "metadata": {},
   "source": [
    "json.loads()는 str을 입력으로 받아 dict형태로 변환해주는 역할을 합니다.  \n",
    "따라서 JSON 형태의 문자열을 파이썬에서 접근 가능하게 되었습니다.  \n",
    "\n",
    "이번에는 유저 리스트를 조회하도록 하겠습니다.  "
   ]
  },
  {
   "cell_type": "code",
   "execution_count": null,
   "metadata": {},
   "outputs": [],
   "source": [
    "response=requests.get('http://1.201.142.138/api/user/list')\n",
    "response_json=json.loads(response.text)\n",
    "print(response_json)"
   ]
  },
  {
   "cell_type": "markdown",
   "metadata": {},
   "source": [
    "위 소스코드 또한 /api/user/list에 get 요청을 하고  \n",
    "json.loads()를 통해 response.text를 dict형태로 변환하였습니다.  \n",
    "\n",
    "## 4. Assignment\n",
    "\n",
    "아래 셀에 다음 요구사항을 만족하는 소스코드를 작성해 주세요.  \n",
    "\n",
    "1. [네이버](https://www.naver.com)에 접속하여 F12-Network 탭에 들어가 네이버의 인기 검색어 순위를 나타내는 API 찾기.\n",
    "1. 해당 API를 requests 모듈을 사용하여 적절한 method로 호출.\n",
    "1. json 모듈을 이용하여 response parse\n",
    "1. 소스코드 실행 시점에서의 실시간 검색어 순위를 출력. 예) 7위: 삼성SDI"
   ]
  },
  {
   "cell_type": "code",
   "execution_count": 1,
   "metadata": {},
   "outputs": [],
   "source": [
    "import requests\n",
    "import json"
   ]
  }
 ],
 "metadata": {
  "kernelspec": {
   "display_name": "Python 3",
   "language": "python",
   "name": "python3"
  },
  "language_info": {
   "codemirror_mode": {
    "name": "ipython",
    "version": 3
   },
   "file_extension": ".py",
   "mimetype": "text/x-python",
   "name": "python",
   "nbconvert_exporter": "python",
   "pygments_lexer": "ipython3",
   "version": "3.7.6"
  }
 },
 "nbformat": 4,
 "nbformat_minor": 4
}
