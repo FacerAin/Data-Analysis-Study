{
 "cells": [
  {
   "cell_type": "markdown",
   "metadata": {},
   "source": [
    "# Chapter4 Numpy\n",
    "## 1. Numpy란?\n",
    "Numpy는 다차원의 배열(행렬)과 그를 이용한 연산에 대해 우수한 성능을 보여주는 라이브러리입니다.  \n",
    "## 2. Numpy 시작하기\n",
    "이전 챕터와 마찬가지로  \n",
    "\n",
    "pip 환경에서는  \n",
    "```bash\n",
    "pip install numpy\n",
    "```\n",
    "\n",
    "conda 환경에서는  \n",
    "```bash\n",
    "conda install numpy\n",
    "```\n",
    "로 설치해 봅시다.  \n",
    "\n",
    "설치가 완료되었다면 다음 셀을 실행하여 numpy를 import 해줍니다.  "
   ]
  },
  {
   "cell_type": "code",
   "execution_count": null,
   "metadata": {},
   "outputs": [],
   "source": [
    "import numpy as np"
   ]
  },
  {
   "cell_type": "markdown",
   "metadata": {},
   "source": [
    "보통 numpy는 np로 축약하여 사용하곤 합니다.  \n",
    "## 3. Arrays\n",
    "numpy에서는 python의 list와 비슷한 ndarray(=array)를 주로 다룹니다.  \n",
    "\n",
    "다음 셀을 실행하여 ndarray를 생성해봅시다."
   ]
  },
  {
   "cell_type": "code",
   "execution_count": null,
   "metadata": {},
   "outputs": [],
   "source": [
    "a=np.array([1,2,3])\n",
    "print(type(a))\n",
    "b=np.array([[1,2,3],[4,5,6]])\n",
    "print(type(b))"
   ]
  },
  {
   "cell_type": "markdown",
   "metadata": {},
   "source": [
    "위 셀에서는 1차원 배열 a와  \n",
    "2차원 배열 b를 생성하였습니다.  \n",
    "\n",
    "np.array() 함수의 인자에 list를 입력하면 배열이 생성되는 것을 알 수 있습니다.  \n",
    "\n",
    "다음 셀을 실행하여 array의 shape를 알 수 있습니다."
   ]
  },
  {
   "cell_type": "code",
   "execution_count": null,
   "metadata": {},
   "outputs": [],
   "source": [
    "print(a.shape)\n",
    "print(b.shape)"
   ]
  },
  {
   "cell_type": "markdown",
   "metadata": {},
   "source": [
    "shape는 배열이 어떻게 생겼는지 나타내는 tuple을 반환합니다.  \n",
    "\n",
    "배열 a의 경우 행이 3인 배열이기에 (3,)이 반환되고  \n",
    "배열 b이 경우 행이 2이고 열이 3인 배열이기 때문에 (2,3)이 반환됩니다.  \n",
    "\n",
    "다음 셀을 실행하여 각 원소에 어떻게 접근하는 지 알아봅시다.  "
   ]
  },
  {
   "cell_type": "code",
   "execution_count": null,
   "metadata": {},
   "outputs": [],
   "source": [
    "print(a[0],a[1],a[2])\n",
    "print(b[0,0],b[0,1],b[1,0])\n",
    "print(b[0][0],b[0][1],b[1][0])"
   ]
  },
  {
   "cell_type": "markdown",
   "metadata": {},
   "source": [
    "각 원소에 접근하는 방법이 1차원 배열의 경우에는 python의 1차원 list와 동일하지만  \n",
    "2차원 배열의 경우에는 두가지 방법이 있음을 알 수 있습니다.  \n",
    "\n",
    "numpy에서는 몇개의 특이한 배열을 쉽게 생성할수 있습니다.  "
   ]
  },
  {
   "cell_type": "code",
   "execution_count": null,
   "metadata": {},
   "outputs": [],
   "source": [
    "c=np.zeros((2,2))\n",
    "print(c)\n",
    "\n",
    "d=np.ones((1,2))\n",
    "print(d)\n",
    "\n",
    "e=np.full((2,2),7)\n",
    "print(e)\n",
    "\n",
    "f=np.eye(2)\n",
    "print(f)\n",
    "\n",
    "g=np.random.random((2,2))\n",
    "print(g)"
   ]
  },
  {
   "cell_type": "markdown",
   "metadata": {},
   "source": [
    "np.zeros()는 생성하고자 하는 배열의 shape를 입력하면 모든 원소가 0인 배열을 생성합니다.  \n",
    "\n",
    "np.ones()는 생성하고자 하는 배열의 shape를 입력하면 모든 원소가 1인 배열을 생성합니다.  \n",
    "\n",
    "np.full()은 생성하고자 하는 배열의 shape와 수를 입력하면 모든 원소가 입력한 수로 채워진 배열을 생성합니다.  \n",
    "\n",
    "np.eye()는 정수 n을 입력하면 nxn의 단위 행렬을 생성합니다.  \n",
    "\n",
    "np.random.random()은 생성하고자 하는 배열의 shape를 입력하면 모든 원소가 임의의 난수로 채워진 배열을 생성합니다.  \n",
    "\n",
    "## 4. Array Slicing\n",
    "python의 list가 그러하듯이 numpy의 배열도 slicing을 할 수 있습니다.  \n",
    "다음 셀을 실행해 봅시다."
   ]
  },
  {
   "cell_type": "code",
   "execution_count": null,
   "metadata": {},
   "outputs": [],
   "source": [
    "h=np.array([[1,2,3,4],[5,6,7,8],[9,10,11,12]])\n",
    "print(h)\n",
    "\n",
    "i=h[:2,1:3]\n",
    "print(i)"
   ]
  },
  {
   "cell_type": "markdown",
   "metadata": {},
   "source": [
    "2차원 배열 h를 생성한 다음에  \n",
    "i를 h에 슬라이싱하였습니다.  \n",
    "\n",
    "행은 시작부터 2미만 까지, 열은 1이상 3미만까지  \n",
    "슬라이싱에서 숫자가 이상과 미만을 의미한다는 점에서 list와 유사함을 알 수 있습니다.  \n",
    "\n",
    "또한, 인덱싱과 슬라이싱을 함께 사용할 수도 있습니다.  "
   ]
  },
  {
   "cell_type": "code",
   "execution_count": null,
   "metadata": {},
   "outputs": [],
   "source": [
    "j=h[1,:]\n",
    "print(j)\n",
    "print(j.shape)\n",
    "\n",
    "k=h[1:2,:]\n",
    "print(k)\n",
    "print(k.shape)\n",
    "\n",
    "l=h[:,1]\n",
    "print(l)\n",
    "print(l.shape)\n",
    "\n",
    "m=h[:,1:2]\n",
    "print(m)\n",
    "print(m.shape)"
   ]
  },
  {
   "cell_type": "markdown",
   "metadata": {},
   "source": [
    "인덱싱을 사용하는 경우 배열의 차원이 줄어드는 것을 알 수 있습니다.  \n",
    "\n",
    "numpy에서는 조건에 맞는 인덱스를 저장할 수 있고,  \n",
    "이 인덱스를 통하여 다시 배열에 접근할 수 있습니다.  "
   ]
  },
  {
   "cell_type": "code",
   "execution_count": null,
   "metadata": {},
   "outputs": [],
   "source": [
    "n=np.array([[1,2],[3,4],[5,6]])\n",
    "\n",
    "bool_idx=(n>2)\n",
    "\n",
    "print(bool_idx)\n",
    "print(n[bool_idx])\n",
    "print(n[n>2])"
   ]
  },
  {
   "cell_type": "markdown",
   "metadata": {},
   "source": [
    "배열에 비교 연산자를 사용하면  \n",
    "전체 배열에서 조건을 만족하는 원소는 True로  \n",
    "조건을 만족하지 않는 원소는 False로 채워진 같은 shape의 배열을 리턴합니다.  \n",
    "\n",
    "기존 배열을 인덱싱할 때 위 셀의 bool_idx를 사용하면  \n",
    "True에 해당하는 배열의 원소만으로 이루어진 1차원 배열이 반환됩니다.  \n",
    "\n",
    "이는 단순히 배열을 인덱싱할때 배열과 비교연산자를 사용하는것으로도 쉽게 표현이 됩니다.  \n",
    "\n",
    "## 5. Array Math\n",
    "이번에는 배열을 이용한 연산에 대해 알아보도록 하겠습니다.  \n",
    "다음 셀을 실행해 봅시다.  "
   ]
  },
  {
   "cell_type": "code",
   "execution_count": null,
   "metadata": {},
   "outputs": [],
   "source": [
    "x=np.array([[1,2],[3,4]])\n",
    "y=np.array([[5,6],[7,8]])\n",
    "\n",
    "print(x+y)\n",
    "print(np.add(x,y))\n",
    "\n",
    "print(x-y)\n",
    "print(np.subtract(x,y))\n",
    "\n",
    "print(x*y)\n",
    "print(np.multiply(x,y))\n",
    "\n",
    "print(x/y)\n",
    "print(np.divide(x,y))\n",
    "\n",
    "print(np.sqrt(x))"
   ]
  },
  {
   "cell_type": "markdown",
   "metadata": {},
   "source": [
    "위 셀에서의 연산은 각 배열에서 같은 위치에 있는 원소끼리 진행됩니다.  \n",
    "\n",
    "두 배열 사이에 사칙 연산자를 사용하거나 numpy의 함수를 사용하여 연산을 할 수 있습니다.  \n",
    "\n",
    "다음 셀에서 행렬 곱을 다뤄봅시다.  "
   ]
  },
  {
   "cell_type": "code",
   "execution_count": null,
   "metadata": {},
   "outputs": [],
   "source": [
    "v=np.array([9,10])\n",
    "w=np.array([11,12])\n",
    "\n",
    "print(v.dot(w))\n",
    "print(np.dot(v,w))\n",
    "\n",
    "print(x.dot(v))\n",
    "print(np.dot(x,v))\n",
    "\n",
    "print(x.dot(y))\n",
    "print(np.dot(x,y))"
   ]
  },
  {
   "cell_type": "markdown",
   "metadata": {},
   "source": [
    "배열(행렬)의 dot()함수 또는 numpy의 dot()함수를 이용하여  \n",
    "두 벡터의 곱(스칼라 반환)  \n",
    "행렬과 벡터 또는 벡터와 행렬의 곱(벡터 반환)  \n",
    "행렬과 행렬의 곱(행렬 반환)  \n",
    "을 수행할 수 있습니다.  \n",
    "\n",
    "또한 행렬 또는 행 또는 열에 대하여 원소의 합을 구할 수도 있습니다.  \n",
    "다음 셀을 실행해봅시다.  "
   ]
  },
  {
   "cell_type": "code",
   "execution_count": null,
   "metadata": {},
   "outputs": [],
   "source": [
    "print(np.sum(x))\n",
    "print(np.sum(x,axis=0))\n",
    "print(np.sum(x,axis=1))"
   ]
  },
  {
   "cell_type": "markdown",
   "metadata": {},
   "source": [
    "첫번째 줄은 모든 원소의 출력을 반환합니다.  \n",
    "두번째 줄은 각 열의 합을 반환합니다.  \n",
    "마지막 줄은 각 행의 합을 반환합니다.  \n",
    "\n",
    "Numpy에 대한 자세한 내용은 https://numpy.org/doc/ 를 참고해주세요."
   ]
  }
 ],
 "metadata": {
  "kernelspec": {
   "display_name": "Python 3",
   "language": "python",
   "name": "python3"
  },
  "language_info": {
   "codemirror_mode": {
    "name": "ipython",
    "version": 3
   },
   "file_extension": ".py",
   "mimetype": "text/x-python",
   "name": "python",
   "nbconvert_exporter": "python",
   "pygments_lexer": "ipython3",
   "version": "3.7.6"
  }
 },
 "nbformat": 4,
 "nbformat_minor": 4
}
