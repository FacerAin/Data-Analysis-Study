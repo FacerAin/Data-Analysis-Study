{
 "cells": [
  {
   "cell_type": "markdown",
   "metadata": {},
   "source": [
    "# Chapter3 Selenium\n",
    "## 1. Selenium이란?\n",
    "Selenium은 웹 페이지를 테스트하기 위한 프레임워크입니다.  \n",
    "구글에서 제공하고 있으며, 실제 브라우저의 동작(텍스트 입력, 로그인, 클릭 등)을 파이썬 환경에서 실행할 수 있습니다.  \n",
    "또한, 동적 웹페이지 크롤링에도 많이 사용되는 프레임워크입니다.  \n",
    "\n",
    "### 1-1. 정적 웹페이지와 동적 웹페이지\n",
    "웹 페이지는 정적 웹 페이지와 동적 웹페이지로 나눌 수 있습니다.  \n",
    "\n",
    "정적 웹페이지는 웹 페이지가 요청되는 시점(requests.get() 등)에 이미 웹 페이지의 모든 내용이 구성되어 있는 웹 페이지 입니다.  \n",
    "동적 웹페이지는 웹 페이지가 요청되는 시점에 웹 페이지의 일부분만 로드되고 나머지는 javascript단에서 웹 페이지의 남은 내용을 구성합니다.  \n",
    "따라서 동적 웹페이지의 동적인 부분(=나중에 채워지는 부분)을 크롤링 하고싶다면 기존의 requests 모듈로는 한계가 존재합니다.  \n",
    "\n",
    "그렇다면 크롤링에 앞서 웹 페이지가 정적인지 동적인지는 어떻게 구분할까요?  \n",
    "개발자 도구(F12)의 Elements탭에서 웹 페이지의 모든 내용이 보인다고 정적 웹페이지라고 단언할 수는 없습니다.  \n",
    "해당 웹 페이지가 정적인지 동적인지 확인하기 위해서는 개발자 도구의 source탭에서 html 파일을 확인하거나,  \n",
    "개발자 도구의 Network 탭에서 해당 웹페이지를 GET한 결과와 현재 웹페이지가 차이가 있는지 확인해야 합니다.(Preview를 보면 조금 더 편합니다.)  \n",
    "\n",
    "예시를 들어보자면 네이버의 메인 페이지는 동적 웹페이지입니다.  \n",
    "![3-1.JPG](./image/3-1.JPG)\n",
    "위 사진의 왼쪽은 네이버의 화면이고, 오른쪽은 네이버의 메인 페이지(www.naver.com)을 GET 했을 때의 모습을 Preview 한 것입니다.  \n",
    "양쪽을 비교해 보면 오른쪽에는 검색어와 사용자 정보가 채워지지 않아 네이버의 메인 페이지는 동적 웹페이지임을 알 수 있었습니다.  \n",
    "\n",
    "사실 많은 페이지가 동적으로 운영이 되고 있습니다.  \n",
    "하지만 크롤링을 시도함에 있어 중요한 것은 동적 웹페이지라도 자신이 찾고자 하는 부분이 정적이라면 굳이 selenium을 사용할 필요가 없다는 것입니다.  \n",
    "예시를 들어보겠습니다.  \n",
    "우리는 Chapter2에서 검색 결과 중 뉴스 기사의 제목들을 크롤링하는 과제를 진행했습니다.  \n",
    "![3-2.JPG](./image/3-2.JPG)\n",
    "해당 웹페이지는 동적으로 우측 상단에 사용자 정보를 채워 넣지만, 우리가 수집하고자 했던 뉴스 기사의 제목은 정적으로 구성되어 있습니다.  \n",
    "따라서 뉴스 기사의 제목을 수집하고자 할 때에는 Selenium을 사용할 필요가 없습니다.  \n",
    "\n",
    "Selenium이 동적 웹페이지와 정적 웹페이지 모두 크롤링이 가능한데 왜 동적 웹페이지인 경우에만 사용해야 할까요?  \n",
    "그 이유는 Selenium을 사용하는 경우는 Requests 모듈을 사용하는 경우보다 현저히 속도가 느리기 때문입니다.  \n",
    "\n",
    "Selenium은 실제 브라우저와 같은 행동을 합니다. 그러나 Requests는 웹 브라우저가 문서나 API를 요청하는 것만 파이썬 환경에서 진행하기 때문에 속도 차이가 다소 납니다.  \n",
    "\n",
    "따라서 웹 페이지의 성격에 따라, 수집하고 싶은 정보가 동적인지 여부에 따라 적절한 도구를 선택하는 것이 중요합니다.  "
   ]
  },
  {
   "cell_type": "markdown",
   "metadata": {},
   "source": [
    "## 2. Selenium 시작하기\n",
    "우선 selenium을 설치하도록 하겠습니다.  \n",
    "\n",
    "pip 환경에서는  \n",
    "- 설치 확인  \n",
    "```bash\n",
    "pip list | findstr selenium\n",
    "```\n",
    "- 설치  \n",
    "```bash\n",
    "pip install selenium\n",
    "```\n",
    "\n",
    "conda 환경에서는\n",
    "- 설치 확인  \n",
    "```bash\n",
    "conda list | selenium\n",
    "```\n",
    "- 설치  \n",
    "```bash\n",
    "conda install selenium\n",
    "```\n",
    "\n",
    "Selenium은 chromedriver를 필요로 합니다.  \n",
    "\n",
    "chrome의 버전은 크롬 설정 - 좌측의 chrome 정보에서 확인할 수 있습니다.  \n",
    "다음링크(https://chromedriver.chromium.org/downloads) 에서 chromedriver를 chrome의 버전과 운영체제에 맞게 다운로드 받고  \n",
    "압축을 푼 후 이곳에 chromedriver.exe를 놓아주세요.  \n",
    "\n",
    "다음 셀을 실행하여 현재 디렉토리와 chromedriver.exe가 알맞게 놓여졌는지 확인할 수 있습니다.  "
   ]
  },
  {
   "cell_type": "code",
   "execution_count": null,
   "metadata": {},
   "outputs": [],
   "source": [
    "import os\n",
    "\n",
    "print(\"Current Working Directory: {}\".format(os.getcwd()))\n",
    "print(\"Check chromedriver.exe: {}\".format(os.path.exists('./chromedriver.exe')))"
   ]
  },
  {
   "cell_type": "markdown",
   "metadata": {},
   "source": [
    "설치가 완료되었으면 다음 셀을 실행하여 selenium을 import하고 webdriver를 불러오겠습니다.  "
   ]
  },
  {
   "cell_type": "code",
   "execution_count": null,
   "metadata": {},
   "outputs": [],
   "source": [
    "from selenium import webdriver\n",
    "\n",
    "driver=webdriver.Chrome('./chromedriver.exe')"
   ]
  },
  {
   "cell_type": "markdown",
   "metadata": {},
   "source": [
    "위 셀을 실행하면 새 브라우저가 띄워지는것을 알 수 있습니다.  \n",
    "실습을 위해서 되도록이면 창을 닫아주지 마시고 창이 닫혔을 시에는 위 셀을 다시 실행시켜주시기 바랍니다.  \n",
    "## 3. Selenium으로 네이버 사용하기\n",
    "웹 페이지를 불러오는 동작은 driver.get()으로 진행할 수 있습니다.  \n",
    "아래 셀을 실행하면 브라우저의 현재 위치가 네이버로 바뀐것을 알 수 있습니다.  "
   ]
  },
  {
   "cell_type": "code",
   "execution_count": null,
   "metadata": {},
   "outputs": [],
   "source": [
    "driver.get('https://www.naver.com')\n",
    "driver.implicitly_wait(3)"
   ]
  },
  {
   "cell_type": "markdown",
   "metadata": {},
   "source": [
    "위 셀의 driver.implicitly_wait(3) 함수는 웹 브라우저 상에서 동적인 부분을 채우는 데 3초가량 기다려주는 역할을 합니다.  \n",
    "해당 함수가 없으면 암묵적으로 0초간 기다리는 것을 의미하므로 바로 모든 태그에 접근할 수 없을 수도 있습니다.\n",
    "\n",
    "Selenium을 이용하면 chapter2의 beautifulsoup가 그러했듯이 태그 자체나, 태그의 id, class 또는 name 등을 가지고 태그에 접근할 수 있습니다.    \n",
    "게다가 텍스트를 입력하거나, 클릭 이벤트를 주는 등 다양한 동작이 가능합니다.  \n",
    "\n",
    "다음 셀을 실행하여 네이버에서 검색을 해보도록 하겠습니다.  "
   ]
  },
  {
   "cell_type": "code",
   "execution_count": null,
   "metadata": {},
   "outputs": [],
   "source": [
    "keyword=input('검색어를 입력해 주세요. :')\n",
    "\n",
    "driver.find_elements_by_id('query')[0].send_keys(keyword)\n",
    "driver.find_elements_by_id('search_btn')[0].click()\n",
    "print(driver.page_source)"
   ]
  },
  {
   "cell_type": "markdown",
   "metadata": {},
   "source": [
    "위 셀을 실행시키면 브라우저의 위치가 검색결과 창으로 변경된것을 알 수 있습니다.  \n",
    "\n",
    "driver.find_element**s**\\_by_id()함수는 태그의 id를 가지고 접근하는 함수입니다.  \n",
    "태그에 접근하게 되면 click()을 통하여 클릭 이벤트를 실행하거나 send_keys()를 통하여 텍스트를 채워 넣을 수 있습니다.  \n",
    "\n",
    "page_source는 전체 html 소스를 나타냅니다.  \n",
    "page_source를 chapter2에서 배웠던 beautifulsoup와 함께 다룰 수 있습니다.  \n",
    "\n",
    "find_element**s**\\_by_id()뿐만 아니라  \n",
    "find_element_by_name(), find_element_by_class_name(), find_element_by_css_selector(), find_element_by_xpath()등 다양한 방법으로 태그에 접근할 수 있습니다.  \n",
    "\n",
    "다음 셀을 import 직후에 실행하면 웹 브라우저를 띄우지 않은 headless모드에서 Selenium을 실행할 수 있습니다.  "
   ]
  },
  {
   "cell_type": "code",
   "execution_count": null,
   "metadata": {},
   "outputs": [],
   "source": [
    "options=webdriver.ChromeOptions()\n",
    "options.add_argument(\"headless\")\n",
    "\n",
    "driver=webdriver.Chrome('chromedriver.exe',options=options)"
   ]
  },
  {
   "cell_type": "markdown",
   "metadata": {},
   "source": [
    "다음 셀을 실행하여 브라우저를 닫을 수 있습니다.  "
   ]
  },
  {
   "cell_type": "code",
   "execution_count": null,
   "metadata": {},
   "outputs": [],
   "source": [
    "driver.quit()"
   ]
  },
  {
   "cell_type": "markdown",
   "metadata": {},
   "source": [
    "## 4. Assignment\n",
    "\n",
    "아래 셀에 각 학교의 포털(혹은 종합정보시스템)에 들어가 로그인을 진행한 후 학번, 학과, 이름을 콘솔창에 출력하는 소스코드를 작성해 주세요.  \n",
    "팝업에 대한 처리는 NoSuchElementException을 이용하면 더욱 편리하게 이용할 수 있습니다.  \n"
   ]
  },
  {
   "cell_type": "code",
   "execution_count": null,
   "metadata": {},
   "outputs": [],
   "source": [
    "from selenium import webdriver\n",
    "from bs4 import BeautifulSoup\n",
    "from getpass import getpass\n",
    "from selenium.common.exceptions import NoSuchElementException\n",
    "\n",
    "# Write your source code here."
   ]
  }
 ],
 "metadata": {
  "kernelspec": {
   "display_name": "Python 3",
   "language": "python",
   "name": "python3"
  },
  "language_info": {
   "codemirror_mode": {
    "name": "ipython",
    "version": 3
   },
   "file_extension": ".py",
   "mimetype": "text/x-python",
   "name": "python",
   "nbconvert_exporter": "python",
   "pygments_lexer": "ipython3",
   "version": "3.7.6"
  }
 },
 "nbformat": 4,
 "nbformat_minor": 4
}
