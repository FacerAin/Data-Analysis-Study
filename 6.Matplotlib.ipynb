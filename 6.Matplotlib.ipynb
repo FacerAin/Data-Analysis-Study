{
 "cells": [
  {
   "cell_type": "markdown",
   "metadata": {},
   "source": [
    "# Chapter6 Matplotlib\n",
    "이전 챕터에서 데이터 수집(Chapter1\\~3), 데이터 가공 및 분석(Chapter4~5)를 다루었습니다.  \n",
    "\n",
    "이번 챕터에서 하게될 내용은 데이터 시각화(Data Visualization)입니다.  \n",
    "\n",
    "데이터를 수집하고 가공/분석하는 것만큼 시각화도 매우 중요합니다.  \n",
    "\n",
    "데이터 시각화가 잘 되면 데이터의 분포나 특징등을 파악하기 용이합니다.  \n",
    "또한, 데이터를 직접 수집하고 다뤄보지않은 사람들에게  \n",
    "DataFrame이나 csv파일 또는 데이터베이스를 보여주는 것은  \n",
    "원활하게 정보전달이 이루어지지 않을 수 있습니다.  \n",
    "\n",
    "그래서 이번 챕터에서는 데이터 시각화를 도와주는 matplotlib에대해 다뤄보도록 하겠습니다.  \n",
    "## 1. Matplotlib란?\n",
    "Matplotlib은 데이터 시각화에 사용되는 라이브러리입니다.  \n",
    "\n",
    "이전 챕터에서 배운 Numpy나 Pandas의 자료형도 지원하기 때문에 매우 편리합니다.  \n",
    "## 2. Matplotlib 시작하기\n",
    "우선 라이브러리를 설치하도록 하겠습니다.  \n",
    "\n",
    "pip 환경  \n",
    "```bash\n",
    "pip install matplotlib\n",
    "```\n",
    "\n",
    "conda 환경  \n",
    "```bash\n",
    "conda install matplotlib\n",
    "```\n",
    "\n",
    "설치가 완료되었으면 다음셀을 실행하여 라이브러리를 import 해줍시다.  "
   ]
  },
  {
   "cell_type": "code",
   "execution_count": null,
   "metadata": {},
   "outputs": [],
   "source": [
    "%matplotlib inline\n",
    "import matplotlib.pyplot as plt\n",
    "import numpy as np\n",
    "import pandas as pd"
   ]
  },
  {
   "cell_type": "markdown",
   "metadata": {},
   "source": [
    "첫번째 줄의  \n",
    "%matplotlib inline\n",
    "은 그림, 소리, 애니메이션과 같은 Rich Output들을 별도의 창을 열지 않고  \n",
    "해당 셀의 output으로 바로 보여줍니다.  \n",
    "\n",
    "또한 matplotlib는 전체 패키지를 의미합니다.  \n",
    "우리는 해당 패키지에서 pyplot이라는 모듈만 따로 사용할 것이기 때문에  \n",
    "matplotlib.pyplot을 import하고 이를 plt로 하도록 하겠습니다.  \n",
    "\n",
    "## 3. subplots()\n",
    "pyplot에서는 figure라는 그림단위를 사용합니다.  \n",
    "그리고 그 안에 subplot을 두어 한 figure안에서 하나 또는 여러개의 그래프를 그릴 수 있습니다.  \n",
    "해당 subplot에 대한 접근은 axes라는 객체를 통해 이루어집니다.  \n",
    "\n",
    "다음 셀을 실행해 봅시다."
   ]
  },
  {
   "cell_type": "code",
   "execution_count": null,
   "metadata": {},
   "outputs": [],
   "source": [
    "fig,axes=plt.subplots(3,4,figsize=(9,12))\n",
    "\n",
    "axes[0,1].plot([1,2,3,4])\n",
    "\n",
    "plt.show()"
   ]
  },
  {
   "cell_type": "markdown",
   "metadata": {},
   "source": [
    "plt.subplots()를 통해 여러개의 subplot를 생성했습니다.  \n",
    "인자로 정수 두개와 figsize가 입력되었습니다.  \n",
    "앞의 정수 두개는 몇개의 subplot을 생성할 지에 관한 인자입니다.  \n",
    "각각 행과 열의 개수를 나타냅니다.  \n",
    "\n",
    "위 셀에서는 3과 4를 입력했으므로 3개행, 4개열의 subplot이 생성되었습니다.  \n",
    "\n",
    "figsize에 tuple를 전달했는데 각각 가로, 세로의 인치수를 의미합니다.  \n",
    "\n",
    "subplots()의 반환값으로 fig와 axes를 리턴했는데 각각 큰 그림 자체와 axes라는 각각의 subplot을 의미합니다.  \n",
    "axes에 대한 접근은 np.ndarray와 마찬가지로 axes[0,1] 등으로 0행 1열의 subplot에 접근할 수 있습니다.  \n",
    "\n",
    "위 셀에서 axes[0,1]로 0행의 1열의 함수를 plot()이라는 함수를 통해 간단한 그래프를 그려  \n",
    "plt.show()로 출력해보도록 하겠습니다.  \n",
    "\n",
    "원한대로 0행 1열만 그래프가 그려진 것을 알 수 있습니다.  \n",
    "\n",
    "## 4. Graphs\n",
    "\n",
    "이번에는 본격적으로 여러개의 그래프를 다루도록 하겠습니다.  \n",
    "\n",
    "앞서 서술했듯이 matplotlib는 numpy나 pandas의 자료형 모두 지원하지만 본 강의에서는 numpy의 자료형으로 다루도록 하겠습니다.  \n",
    "\n",
    "### 4-1. plot()\n",
    "plot()은 꺾은선 그래프를 의미합니다.  \n",
    "\n",
    "다음 셀을 실행해 봅시다."
   ]
  },
  {
   "cell_type": "code",
   "execution_count": null,
   "metadata": {},
   "outputs": [],
   "source": [
    "fig,ax=plt.subplots(1,1)\n",
    "\n",
    "ax.plot(np.array([1,2,4,3]),np.array([1,2,3,4]))\n",
    "\n",
    "plt.show()"
   ]
  },
  {
   "cell_type": "markdown",
   "metadata": {},
   "source": [
    "위 셀에서는 subplots()에서 생성할 subplot의 수를 1,1로 1개를 잡았기 때문에  \n",
    "따로 ax를 인덱싱하지 않았습니다.  \n",
    "\n",
    "plot()의 첫번째 인자로 x값에 해당하는 np.array()  \n",
    "두번째 인자롤 y값에 해당하는 np.array()를 입력하였습니다.  \n",
    "x값, y값 내에서 각각의 원소의 순서는 중요하니 참고해 주시기 바랍니다.  \n",
    "\n",
    "x값과 y값이 입력된 순서대로  \n",
    "(1,1) (2,2) (4,3) (4,3) 순서대로 그래프가 그려진 것을 알 수 있습니다.  \n",
    "\n",
    "만약에 plot()에 인자가 3개면 어떻게 될까요?  \n",
    "\n",
    "다음 셀을 실행해봅시다."
   ]
  },
  {
   "cell_type": "code",
   "execution_count": null,
   "metadata": {},
   "outputs": [],
   "source": [
    "fig,ax=plt.subplots(1,1)\n",
    "\n",
    "ax.plot(np.array([1,2,4,3]),np.array([1,2,3,4]),np.array([2,5,7,9]))\n",
    "\n",
    "plt.show()"
   ]
  },
  {
   "cell_type": "markdown",
   "metadata": {},
   "source": [
    "3번째 인자를 x가 아닌 y로 인식하고,  \n",
    "x값을 [0,1,2,3]으로 인식하여 그래프가 그려진것을 알 수 있습니다.  \n",
    "\n",
    "만약 x값을 지정해주고 싶다면,  "
   ]
  },
  {
   "cell_type": "code",
   "execution_count": null,
   "metadata": {},
   "outputs": [],
   "source": [
    "fig,ax=plt.subplots(1,1)\n",
    "\n",
    "ax.plot(np.array([1,2,4,3]),np.array([1,2,3,4]),np.array([1,2,4,3]),np.array([2,5,7,9]))\n",
    "\n",
    "plt.show()"
   ]
  },
  {
   "cell_type": "markdown",
   "metadata": {},
   "source": [
    "위 셀 처럼 짝수개의 인자를 사용하거나,  "
   ]
  },
  {
   "cell_type": "code",
   "execution_count": null,
   "metadata": {},
   "outputs": [],
   "source": [
    "fig,ax=plt.subplots(1,1)\n",
    "\n",
    "ax.plot(np.array([1,2,4,3]),np.array([1,2,3,4]))\n",
    "ax.plot(np.array([1,2,4,3]),np.array([2,5,7,9]))\n",
    "\n",
    "plt.show()"
   ]
  },
  {
   "cell_type": "markdown",
   "metadata": {},
   "source": [
    "plot() 함수를 여러번 사용하면 됩니다.  \n",
    "### 4-2. scatter()\n",
    "이번에는 plot()의 선이 아닌 점에 집중한 scatter()에 대해 알아보도록 하겠습니다.  \n",
    "scatter()는 산점도를 의미합니다.  \n",
    "scatter()는 데이터의 분포를 파악할 때 용이하게 사용됩니다.  \n",
    "\n",
    "다음 셀을 실행해봅시다."
   ]
  },
  {
   "cell_type": "code",
   "execution_count": null,
   "metadata": {},
   "outputs": [],
   "source": [
    "fig,ax=plt.subplots(1,1)\n",
    "\n",
    "ax.scatter(np.random.random(5),np.random.random(5))\n",
    "\n",
    "plt.show()"
   ]
  },
  {
   "cell_type": "markdown",
   "metadata": {},
   "source": [
    "np.random.random()을 이용하여 무작위로 x값 5개, y값 5개를 지정하여 그래프로 나타냈습니다.  \n",
    "\n",
    "plot()에 비해 그래프가 점으로 나타난 것을 알 수 있습니다.  \n",
    "scatter()도 마찬가지로 같은 ax에 대해 scatter()를 여러개 사용하면  \n",
    "\n",
    "여러개의 데이터를 한번에 구분하여 표시할 수 있게 됩니다.  \n",
    "다음 셀을 실행하여 확인해 주세요.  "
   ]
  },
  {
   "cell_type": "code",
   "execution_count": null,
   "metadata": {},
   "outputs": [],
   "source": [
    "fig,ax=plt.subplots(1,1)\n",
    "\n",
    "ax.scatter(np.random.random(5),np.random.random(5))\n",
    "ax.scatter(np.random.random(5),np.random.random(5))\n",
    "\n",
    "plt.show()"
   ]
  },
  {
   "cell_type": "markdown",
   "metadata": {},
   "source": [
    "### 4-3. bar()\n",
    "bar()는 바 형태의 그래프를 나타내는 데 사용됩니다.  \n",
    "주로 대상끼리 비교를 할 때 용이하게 사용됩니다.  \n",
    "\n",
    "다음 셀을 실행해봅시다.  "
   ]
  },
  {
   "cell_type": "code",
   "execution_count": null,
   "metadata": {},
   "outputs": [],
   "source": [
    "fig,ax=plt.subplots(1,1)\n",
    "\n",
    "ax.bar(np.arange(1,6),np.random.random(5))\n",
    "\n",
    "plt.show()"
   ]
  },
  {
   "cell_type": "markdown",
   "metadata": {},
   "source": [
    "bar의 경우에는 두 데이터를 비교하고자 한다면 막대를 옆으로 세우는게 비교하기 용이하다고 생각이듭니다.  \n",
    "\n",
    "그렇다면 bar()도 plot()이나 scatter()처럼 bar()를 두번쓰면 해결이 될까요?  \n",
    "\n",
    "다음 셀을 실행해봅시다."
   ]
  },
  {
   "cell_type": "code",
   "execution_count": null,
   "metadata": {},
   "outputs": [],
   "source": [
    "fig,ax=plt.subplots(1,1)\n",
    "\n",
    "ax.bar(np.arange(1,6),np.random.random(5))\n",
    "ax.bar(np.arange(1,6),np.random.random(5))\n",
    "\n",
    "plt.show()"
   ]
  },
  {
   "cell_type": "markdown",
   "metadata": {},
   "source": [
    "이전 데이터와 겹치긴 하는데 위로 겹칩니다.  \n",
    "\n",
    "bar()경우에는 데이터를 나란히 세우고자하는 경우에는 막대의 두께를 조절하여 표현해야합니다.  \n",
    "\n",
    "다음 셀을 실행해봅시다."
   ]
  },
  {
   "cell_type": "code",
   "execution_count": null,
   "metadata": {},
   "outputs": [],
   "source": [
    "fig,ax=plt.subplots(1,1)\n",
    "\n",
    "width=0.35\n",
    "\n",
    "ax.bar(np.arange(1,6)-width/2,np.random.random(5),width)\n",
    "ax.bar(np.arange(1,6)+width/2,np.random.random(5),width)\n",
    "\n",
    "plt.show()"
   ]
  },
  {
   "cell_type": "markdown",
   "metadata": {},
   "source": [
    "width를 0.35로 지정했습니다.\n",
    "\n",
    "첫번째 인자에 해당하는 x값을 상대적으로 왼쪽에 위치할 데이터에게는   \n",
    "width/2 만큼 빼주고,  \n",
    "상대적으로 오른쪽에 위치할 데이터에게는 width/2만큼 더해준 후 bar()에 세번째 인자로 width를 입력해 주었습니다.  \n",
    "\n",
    "### 4-4. hist()\n",
    "마지막으로 hist()를 다뤄보도록 하겠습니다.  \n",
    "hist()는 히스토그램을 의미합니다.  \n",
    "히스토그램은 데이터의 개수를 비교하기 위해 사용됩니다.  \n",
    "\n",
    "다음 셀을 실행해봅시다.  "
   ]
  },
  {
   "cell_type": "code",
   "execution_count": null,
   "metadata": {},
   "outputs": [],
   "source": [
    "fig,ax=plt.subplots(1,1)\n",
    "\n",
    "ax.hist(np.random.randn(1000),bins=30,range=[-3,3])\n",
    "\n",
    "plt.show()"
   ]
  },
  {
   "cell_type": "markdown",
   "metadata": {},
   "source": [
    "np.random.randn()을 통하여 무작위로 1000개의 수를 생성하여  \n",
    "hist()의 첫번째 인자에 입력하였습니다.  \n",
    "range와 bins는 어디부터 어디까지를 몇개의 구간으로 나눌것인지를 정해주는 인자입니다.  \n",
    "range와 bins가 각각 [-3,3], 30이므로 -3부터 3까지의 구간을 30개로 나누어  \n",
    "구간에 해당하는 값들의 수를 y축에 표시하였습니다.  \n",
    "\n",
    "이외에도 matplotlib는 많은 그래프를 지원함과 동시에  \n",
    "그래프 내부에서 선의 종류, 선 색, 라벨, 격자지정 등많은 기능을 제공하고 있습니다.  \n",
    "\n",
    "더 알아보기 원한다면 다음 링크를 참고해주세요.  \n",
    "\n",
    "https://matplotlib.org/tutorials/index.html"
   ]
  }
 ],
 "metadata": {
  "kernelspec": {
   "display_name": "Python 3",
   "language": "python",
   "name": "python3"
  },
  "language_info": {
   "codemirror_mode": {
    "name": "ipython",
    "version": 3
   },
   "file_extension": ".py",
   "mimetype": "text/x-python",
   "name": "python",
   "nbconvert_exporter": "python",
   "pygments_lexer": "ipython3",
   "version": "3.7.6"
  }
 },
 "nbformat": 4,
 "nbformat_minor": 4
}
