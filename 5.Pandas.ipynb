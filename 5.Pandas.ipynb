{
 "cells": [
  {
   "cell_type": "markdown",
   "metadata": {},
   "source": [
    "# Chapter5 Pandas\n",
    "## 1. Pandas란?\n",
    "Pandas는 데이터 조작 및 분석에 사용되는 Python 라이브러리입니다.  \n",
    "Excel의 셀(표)과 유사하게 행과 열로 이루어진 2차원의 Dataframe이라는 자료형을 주로 사용합니다.  \n",
    "\n",
    "## 2. Pandas 시작하기\n",
    "pip 환경에서는  \n",
    "```bash\n",
    "pip install pandas\n",
    "```\n",
    "\n",
    "conda 환경에서는  \n",
    "```bash\n",
    "conda install pandas\n",
    "```\n",
    "로 설치해 봅시다.  \n",
    "\n",
    "설치가 완료되었다면 다음 셀을 실행하여 pandas를 import 해줍니다.  "
   ]
  },
  {
   "cell_type": "code",
   "execution_count": null,
   "metadata": {},
   "outputs": [],
   "source": [
    "import numpy as np\n",
    "import pandas as pd"
   ]
  },
  {
   "cell_type": "markdown",
   "metadata": {},
   "source": [
    "numpy를 np로 축약했듯이,  \n",
    "pandas는 주로 pd로 축약하여 사용합니다.  \n",
    "\n",
    "이 챕터에서는 pandas를 사용하는 데 numpy의 자료형이나 함수가 사용되기 때문에 numpy 또한 import 하였습니다.\n",
    "\n",
    "## 3. Series와 DataFrame\n",
    "Pandas에서는 Series와 DataFrame의 두 자료형을 주로 사용합니다.  \n",
    "\n",
    "Series는 1차원의 데이터이고, 각각의 원소는 index를 갖고 있습니다.  \n",
    "\n",
    "이에 반해 Pandas는 행과 열로 이루어진 2차원의 데이터이고, 각각의 원소가 아닌 행마다 index를 갖고 있습니다.  \n",
    "또한 각 열은 이름을 갖고 있습니다.  \n",
    "\n",
    "다음 셀을 실행하여 0이상 10 미만의 난수 5개로 이루어진 Series를 생성해 봅시다.  "
   ]
  },
  {
   "cell_type": "code",
   "execution_count": null,
   "metadata": {},
   "outputs": [],
   "source": [
    "s=pd.Series(np.random.randint(0,10,size=5))\n",
    "s"
   ]
  },
  {
   "cell_type": "markdown",
   "metadata": {},
   "source": [
    "s를 확인해보면 왼쪽엔 인덱스, 오른쪽엔 값이 나타난 것을 볼 수 있습니다.  \n",
    "\n",
    "다음 두 셀을 실행하여 인덱스와 값을 따로 확인해보도록 하겠습니다."
   ]
  },
  {
   "cell_type": "code",
   "execution_count": null,
   "metadata": {},
   "outputs": [],
   "source": [
    "s.index"
   ]
  },
  {
   "cell_type": "code",
   "execution_count": null,
   "metadata": {},
   "outputs": [],
   "source": [
    "s.values"
   ]
  },
  {
   "cell_type": "markdown",
   "metadata": {},
   "source": [
    "Series의 index는 숫자 뿐만 아니라 문자열도 가능합니다.  \n",
    "\n",
    "다음 셀을 실행하여 Series를 생성할때 index를 지정해보도록 하겠습니다."
   ]
  },
  {
   "cell_type": "code",
   "execution_count": null,
   "metadata": {},
   "outputs": [],
   "source": [
    "s=pd.Series(np.random.randint(0,10,size=5),index=['a','b','c','d','e'])\n",
    "s"
   ]
  },
  {
   "cell_type": "markdown",
   "metadata": {},
   "source": [
    "또한 dictionary를 이용하여 Series를 생성할 수 있습니다.  "
   ]
  },
  {
   "cell_type": "code",
   "execution_count": null,
   "metadata": {},
   "outputs": [],
   "source": [
    "sample_dict={'a':1,'b':2,'c':3}\n",
    "s=pd.Series(sample_dict)\n",
    "s"
   ]
  },
  {
   "cell_type": "markdown",
   "metadata": {},
   "source": [
    "dictionary로 Series를 생성하게 되면 key는 Series의 index가 되고  \n",
    "value는 Series의 value가 됩니다.  \n",
    "\n",
    "다음 셀을 실행하여 0이상 10미만의 난수 5개로 이루어진 DataFrame을 생성해봅시다.  "
   ]
  },
  {
   "cell_type": "code",
   "execution_count": null,
   "metadata": {},
   "outputs": [],
   "source": [
    "df=pd.DataFrame(np.random.randint(0,10,size=5),columns=['column1'])\n",
    "df"
   ]
  },
  {
   "cell_type": "markdown",
   "metadata": {},
   "source": [
    "위 DataFrame은 열이 1개로 이루어져있기 때문에 Series와 큰 차이가 보이는것같진 않습니다.  \n",
    "np.random.randn()함수를 사용하여 2차원 배열을 data로 주고, 여러개의 열을 가지는 DataFrame을 생성해보도록 하겠습니다.  "
   ]
  },
  {
   "cell_type": "code",
   "execution_count": null,
   "metadata": {},
   "outputs": [],
   "source": [
    "df=pd.DataFrame(np.random.randn(4,6),columns=['a','b','c','d','e','f'])\n",
    "df"
   ]
  },
  {
   "cell_type": "markdown",
   "metadata": {},
   "source": [
    "np.random.randn()을 사용하여 shape가 (4,6)인 난수 배열을 생성했습니다.  \n",
    "\n",
    "Series와 마찬가지로 DataFrame 또한 index를 명시하지 않으면 자동으로 0부터 시작하는 정수로 index가 부여되는 것을 알 수 있습니다.  \n",
    "이번에는 DataFrame에 index를 부여하도록 하겠습니다.  \n",
    "\n",
    "어떤게 index로 적합할까요?  \n",
    "이 예제에서는 날짜를 index로 하도록 하겠습니다.  \n",
    "pandas에서는 pd.date_range()를 사용하여 연속된 날짜를 생성할 수 있습니다.  "
   ]
  },
  {
   "cell_type": "code",
   "execution_count": null,
   "metadata": {},
   "outputs": [],
   "source": [
    "date_index=pd.date_range('20200527',periods=4,freq='D')\n",
    "date_index"
   ]
  },
  {
   "cell_type": "markdown",
   "metadata": {},
   "source": [
    "date_range()에 2020년 05월 27일에 해당하는 20200527과 periods에 4를 입력하여 4개의 index를 생성했습니다.  \n",
    "freq에는 index간의 간격을 조정할 수 있는데 1년이면 'Y', 1달이면 'M', 1일이면 'D'를 입력합니다.  \n",
    "\n",
    "다음 셀을 실행하여 생성한 index를 새로운 DataFrame의 index로 지정하여줍시다."
   ]
  },
  {
   "cell_type": "code",
   "execution_count": null,
   "metadata": {},
   "outputs": [],
   "source": [
    "df=pd.DataFrame(np.random.randn(4,6),columns=['a','b','c','d','e','f'],index=date_index)\n",
    "df"
   ]
  },
  {
   "cell_type": "markdown",
   "metadata": {},
   "source": [
    "head(n)와 tail(n)을 이용하면 각각 DataFrame의 상위/하위 n개의 행을 조회할 수 있습니다.  \n",
    "n이 입력되지 않았다면 5로 간주됩니다.  \n",
    "\n",
    "또한 describe()를 통하여 DataFrame의 count, sum, max, min, std등 정보를 조회할 수 있습니다.  \n",
    "\n",
    "다음 셀을 실행해 봅시다. "
   ]
  },
  {
   "cell_type": "code",
   "execution_count": null,
   "metadata": {},
   "outputs": [],
   "source": [
    "df.head(2)"
   ]
  },
  {
   "cell_type": "code",
   "execution_count": null,
   "metadata": {},
   "outputs": [],
   "source": [
    "df.tail(2)"
   ]
  },
  {
   "cell_type": "code",
   "execution_count": null,
   "metadata": {},
   "outputs": [],
   "source": [
    "df.describe()"
   ]
  },
  {
   "cell_type": "markdown",
   "metadata": {},
   "source": [
    "## 4. Indexing과 Slicing"
   ]
  },
  {
   "cell_type": "markdown",
   "metadata": {},
   "source": [
    "DataFrame 또한 numpy.ndarray나 list와 같이 열 또는 행을 기준으로 인덱싱 하거나 여러 열 또는 여러 행을 묶어 슬라이싱 할 수 있습니다.  \n",
    "\n",
    "다음 셀을 실행하여 이전에 사용했던 DataFrame에서 a열만 뽑아보도록 하겠습니다.  "
   ]
  },
  {
   "cell_type": "code",
   "execution_count": null,
   "metadata": {},
   "outputs": [],
   "source": [
    "df['a']"
   ]
  },
  {
   "cell_type": "markdown",
   "metadata": {},
   "source": [
    "DataFrame에서 a열만 추출한 결과 Series가 반환된것을 알 수 있습니다.  \n",
    "\n",
    "인덱싱을 사용하여 새로운 열을 추가할 수도 있습니다.  \n",
    "다음 셀을 실행해 봅시다.  "
   ]
  },
  {
   "cell_type": "code",
   "execution_count": null,
   "metadata": {},
   "outputs": [],
   "source": [
    "df['g']=np.arange(4)\n",
    "df"
   ]
  },
  {
   "cell_type": "markdown",
   "metadata": {},
   "source": [
    "한 열에 값을 대입하니 새로운 열이 추가된 것을 알 수 있습니다.  \n",
    "\n",
    "이와 유사하게 여러 열 간의 연산으로 새로운 열을 추가할 수 있습니다.  "
   ]
  },
  {
   "cell_type": "code",
   "execution_count": null,
   "metadata": {},
   "outputs": [],
   "source": [
    "df['a-b']=df['a']-df['b']\n",
    "df"
   ]
  },
  {
   "cell_type": "markdown",
   "metadata": {},
   "source": [
    "위 셀의 실행 결과 열 a와 열 b의 차이가 새로운 열 a-b의 값이 된 것을 알 수 있습니다.  \n",
    "이러한 연산은 비교 연산자(<,<=,>,>=,==,!=)에도 적용할 수 있습니다.\n",
    "\n",
    "만약 DataFrame을 인덱싱 할 때 인덱스 위치에 'a'가 아닌 ['a']처럼 리스트를 넣어주면 어떻게 되는지 다음 셀을 실행하여 확인해보도록 하겠습니다.  "
   ]
  },
  {
   "cell_type": "code",
   "execution_count": null,
   "metadata": {},
   "outputs": [],
   "source": [
    "df[['a']]"
   ]
  },
  {
   "cell_type": "markdown",
   "metadata": {},
   "source": [
    "리스트를 이용해 인덱싱한 결과 Series가 아닌 DataFrame이 반환된것을 알 수 있습니다.  이를 이용하여 둘 이상의 열에 대해서 인덱싱을 할 수도 있습니다.  "
   ]
  },
  {
   "cell_type": "code",
   "execution_count": null,
   "metadata": {},
   "outputs": [],
   "source": [
    "df[['a','b']]"
   ]
  },
  {
   "cell_type": "markdown",
   "metadata": {},
   "source": [
    "이전 셀과 마찬가지로 DataFrame이 반환된 것을 알 수 있습니다.  \n",
    "\n",
    "특정 열을 삭제할 때는 del을 이용하면 됩니다.  \n",
    "다음 열을 실행하여 새로 추가한 열들을 삭제해봅시다.  "
   ]
  },
  {
   "cell_type": "code",
   "execution_count": null,
   "metadata": {},
   "outputs": [],
   "source": [
    "del df['g']\n",
    "del df['a-b']\n",
    "\n",
    "df"
   ]
  },
  {
   "cell_type": "markdown",
   "metadata": {},
   "source": [
    "이번에는 열이 아닌 각 행에 접근해보도록 하겠습니다.  \n",
    "\n",
    "행의 인덱스(인덱스 이름)으로 접근하려면 df.loc[]으로,  \n",
    "행의 인덱스 번호(int)로 접근하려면 df.iloc[]으로 접근하면 됩니다.  \n",
    "\n",
    "다음 셀을 실행해 봅시다.  "
   ]
  },
  {
   "cell_type": "code",
   "execution_count": null,
   "metadata": {},
   "outputs": [],
   "source": [
    "df.loc['2020-05-27']"
   ]
  },
  {
   "cell_type": "code",
   "execution_count": null,
   "metadata": {},
   "outputs": [],
   "source": [
    "df.iloc[0]"
   ]
  },
  {
   "cell_type": "markdown",
   "metadata": {},
   "source": [
    "위 두 셀에서 loc은 인덱스의 이름으로, iloc은 인덱스의 번호로 같은 행을 접근했습니다.  \n",
    "두 경우 모두 행의 Series를 반환하는 것을 알 수 있습니다.  \n",
    "\n",
    "이번에는 첫번째와 두번째 행을 함께 가져오도록 하겠습니다.    "
   ]
  },
  {
   "cell_type": "code",
   "execution_count": null,
   "metadata": {},
   "outputs": [],
   "source": [
    "df.loc['2020-05-27':'2020-05-28']"
   ]
  },
  {
   "cell_type": "code",
   "execution_count": null,
   "metadata": {},
   "outputs": [],
   "source": [
    "df.iloc[0:2]"
   ]
  },
  {
   "cell_type": "markdown",
   "metadata": {},
   "source": [
    "두 경우 다 DataFrame를 반환합니다.  \n",
    "여기서 차이점은 df.loc[start:end]와 df.iloc[start:end]에서  \n",
    "loc은 end를 포함하지만 iloc은 end를 포함하지 않는다는 점입니다.  \n",
    "\n",
    "사실 loc와 iloc를 사용하면 행 뿐만 아니라 열도 함께 슬라이싱 할 수 있습니다.  "
   ]
  },
  {
   "cell_type": "code",
   "execution_count": null,
   "metadata": {},
   "outputs": [],
   "source": [
    "df.loc['2020-05-27':'2020-05-28','a':'b']"
   ]
  },
  {
   "cell_type": "code",
   "execution_count": null,
   "metadata": {},
   "outputs": [],
   "source": [
    "df.iloc[0:2,0:2]"
   ]
  },
  {
   "cell_type": "markdown",
   "metadata": {},
   "source": [
    "이번에는 비교 연산자를 사용하여 조건에 맞는 행만 추출해 보도록 하겠습니다.  "
   ]
  },
  {
   "cell_type": "code",
   "execution_count": null,
   "metadata": {},
   "outputs": [],
   "source": [
    "df.loc[df['a']>-2, :]"
   ]
  },
  {
   "cell_type": "markdown",
   "metadata": {},
   "source": [
    "위 셀은 a열의 값이 -2보다 큰 행들만 추출하였습니다.  \n",
    "만약 조건이 여러개 필요하다면 & 연산자를 이용하면 됩니다.  "
   ]
  },
  {
   "cell_type": "code",
   "execution_count": null,
   "metadata": {},
   "outputs": [],
   "source": [
    "df.loc[(df['a']>-2)&(df['b']>-2),:]"
   ]
  },
  {
   "cell_type": "markdown",
   "metadata": {},
   "source": [
    "a열에서 값이 -2보다 크고, b열에서 값이 -2보다 큰 행들만 뽑아온 것을 알 수 있습니다.  \n",
    "\n",
    "## 5. Data Manipulation\n",
    "데이터를 수집하다 보면 예상 외로 데이터가 깔끔하게 뽑히지 않은 경우가 빈번하게 일어납니다.  \n",
    "Pandas는 데이터 조작을 위한 많은 함수를 지원합니다.  \n",
    "\n",
    "이번 강의에서는 그 중에서도 결측값이나 이상치를 다뤄보도록 하겠습니다.  \n",
    "\n",
    "결측값이나 이상치은 np.nan으로 표현됩니다.  \n",
    "기존에 사용했던 DataFrame을 복사한 다른 DataFrame에서 결측값을 생성하고 다뤄보도록 하겠습니다.  "
   ]
  },
  {
   "cell_type": "code",
   "execution_count": null,
   "metadata": {},
   "outputs": [],
   "source": [
    "df2=df.copy()\n",
    "df2"
   ]
  },
  {
   "cell_type": "markdown",
   "metadata": {},
   "source": [
    "우선 df2에 g열에 np.nan을 포함한 열을 추가해보도록 하겠습니다.  "
   ]
  },
  {
   "cell_type": "code",
   "execution_count": null,
   "metadata": {},
   "outputs": [],
   "source": [
    "df2['g']=[np.nan,0,1,np.nan]\n",
    "df2"
   ]
  },
  {
   "cell_type": "markdown",
   "metadata": {},
   "source": [
    "위와 같이 np.nan으로 입력된 부분은 실제 DataFrame을 조회할 때 NaN으로 표시가 됩니다.  \n",
    "\n",
    "다음 셀을 실행하여 nan이 있는 행을 삭제해보도록 하겠습니다.  "
   ]
  },
  {
   "cell_type": "code",
   "execution_count": null,
   "metadata": {},
   "outputs": [],
   "source": [
    "df2.dropna(how='any')"
   ]
  },
  {
   "cell_type": "markdown",
   "metadata": {},
   "source": [
    "dropna()의 how에 'any'를 넣게 되면 nan이 있는 행은 없어지고,  \n",
    "how에 'all'을 넣게 되면 모든 열이 nan인 행만 삭제가 됩니다.  \n",
    "\n",
    "이번에는 nan자리를 특정 값으로 채워보도록 하겠습니다.  "
   ]
  },
  {
   "cell_type": "code",
   "execution_count": null,
   "metadata": {},
   "outputs": [],
   "source": [
    "df2"
   ]
  },
  {
   "cell_type": "code",
   "execution_count": null,
   "metadata": {},
   "outputs": [],
   "source": [
    "df2.fillna(-1)"
   ]
  },
  {
   "cell_type": "markdown",
   "metadata": {},
   "source": [
    "fillna() 함수에 -1를 인자로 넘겨주어 nan에 해당하는 부분을 -1로 변경하였습니다.  \n",
    "\n",
    "fillna()는 한 열의 평균을 구할 때 nan을 제외한 값들의 평균을 구한 후 해당 값을 nan대신 넣어주면서 전체적인 평균은 일정하게 유지하도록 하는 데 많이 사용됩니다.  \n",
    "\n",
    "## 6. Statistical Functions\n",
    "이번 강의에서는 통계 함수에 대해 다뤄보겠습니다.  \n",
    "\n",
    "통계 함수를 사용하여 합, 평균, 최대값/최소값, 분산, 표준편차 등을 구할 수 있습니다.  "
   ]
  },
  {
   "cell_type": "code",
   "execution_count": null,
   "metadata": {},
   "outputs": [],
   "source": [
    "df.sum()"
   ]
  },
  {
   "cell_type": "code",
   "execution_count": null,
   "metadata": {},
   "outputs": [],
   "source": [
    "print(df['a'].sum())\n",
    "print(df['a'].mean())\n",
    "print(df['a'].max())\n",
    "print(df['a'].min())\n",
    "print(df['a'].var())\n",
    "print(df['a'].std())"
   ]
  },
  {
   "cell_type": "markdown",
   "metadata": {},
   "source": [
    "sum()은 nan을 제외한 합계를,  \n",
    "mean()은 nan을 제외한 평균을,  \n",
    "max()는 최대값을  \n",
    "min()은 최소값을  \n",
    "var()은 분산을  \n",
    "std()는 표준편차를 출력해 줍니다.  \n",
    "\n",
    "또한, Pandas에서는 correlation이나 covariance를 나타내는 함수  \n",
    "corr()이나 cov()를 지원하여 두 열간의 상관관계를 확인할 수 있도록 합니다.  \n",
    "\n",
    "correlation이나 covariance에 대한 자세한 정보는 다음 링크를 참고해주세요.  \n",
    "([correlation](https://en.wikipedia.org/wiki/Pearson_correlation_coefficient), [covariance](https://en.wikipedia.org/wiki/Covariance))"
   ]
  },
  {
   "cell_type": "code",
   "execution_count": null,
   "metadata": {},
   "outputs": [],
   "source": [
    "print(df['a'].corr(df['b']))\n",
    "print(df['a'].cov(df['b']))"
   ]
  },
  {
   "cell_type": "markdown",
   "metadata": {},
   "source": [
    "이 외에도 Pandas에서는 Data Manipulation과 Data Analysis와 관련된 많은 함수를 제공합니다.  \n",
    "~~(주의)정말 많음~~  \n",
    "더 자세한 내용은 https://pandas.pydata.org/docs/ 를 참고해 주세요"
   ]
  }
 ],
 "metadata": {
  "kernelspec": {
   "display_name": "Python 3",
   "language": "python",
   "name": "python3"
  },
  "language_info": {
   "codemirror_mode": {
    "name": "ipython",
    "version": 3
   },
   "file_extension": ".py",
   "mimetype": "text/x-python",
   "name": "python",
   "nbconvert_exporter": "python",
   "pygments_lexer": "ipython3",
   "version": "3.7.6"
  }
 },
 "nbformat": 4,
 "nbformat_minor": 4
}
