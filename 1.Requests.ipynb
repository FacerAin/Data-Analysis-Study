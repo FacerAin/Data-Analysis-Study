{
 "cells": [
  {
   "cell_type": "markdown",
   "metadata": {},
   "source": [
    "# Chapter1 Requests\n",
    "## 1. Requests 모듈이란?\n",
    "Requests 모듈은 Python의 HTTP Request를 지원하는 라이브러리입니다.  \n",
    "  \n",
    "Requests 모듈을 사용하기 앞서, HTTP 통신에 대해 먼저 알아보도록 하겠습니다.  \n",
    "### 1-1. HTTP Communication\n",
    "HTTP 통신은 Client와 Server사이에서 발생합니다.  \n",
    "작년에 동아리에서 진행했던 Node.js 스터디 자료를 참고하도록 하겠습니다. [(링크)](https://github.com/JJuOn/2019-Node.js-Study/tree/master/5.%20Express#1-http-%ED%86%B5%EC%8B%A0)  \n",
    "  \n",
    "언어간에 HTTP Request를 하는 방법은 차이가 있겠지만 기본적으로 HTTP 통신방식을 사용하는 이상 구조는 동일하다는 것을 유념하셔야 합니다.  \n",
    "\n",
    "## 2. Requests 모듈 시작하기\n",
    "우선 requests 모듈이 설치되었는지 확인해 보도록 하겠습니다.  \n",
    "\n",
    "CMD 혹은 Powershell을 연 다음에 다음 명령어를 통하여 requests 모듈이 설치 되었는 지 확인할 수 있습니다.  \n",
    "pip 환경에서는\n",
    "```bash\n",
    "pip list | findstr requests\n",
    "```\n",
    "conda 환경에서는 \n",
    "```bash\n",
    "conda list | findstr requests\n",
    "```\n",
    "로 확인할 수 있습니다.  \n",
    "\n",
    "만약 설치되지 않았다면 다음의 명령어를 통하여 requests 모듈을 설치해 봅시다.  \n",
    "pip 환경에서는\n",
    "```bash\n",
    "pip install requests\n",
    "```\n",
    "conda 환경에서는\n",
    "```bash\n",
    "conda install requests\n",
    "```\n",
    "\n",
    "설치가 완료되었다면 아래의 셀을 실행하여 requests 모듈을 import 해봅시다.  "
   ]
  },
  {
   "cell_type": "code",
   "execution_count": null,
   "metadata": {},
   "outputs": [],
   "source": [
    "import requests"
   ]
  },
  {
   "cell_type": "markdown",
   "metadata": {},
   "source": [
    "## 3. GET과 POST\n",
    "requests 모듈을 이용해서 주로 사용하는 함수는  \n",
    "requests.get()과 requests.post()입니다.  \n",
    "두 함수 모두 HTTP request를 실행하는 기능을 가집니다.  \n",
    "\n",
    "그럼 두 함수는 어떤 경우에서 다르게 쓸까요?  \n",
    "HTTP method가 GET 이면 requests.get()을, POST이면 requests.post()를 사용합니다.  \n",
    "\n",
    "POST 방식은 호출하려는 API가 데이터의 생성에 관여하는 경우 혹은 회원가입이나 로그인처럼  \n",
    "GET과는 다르게 데이터가 request의 body에 담아 전송되어야 하는 경우에 사용되며,  \n",
    "\n",
    "GET 방식은 POST를 사용하지 않는 경우의 나머지라고 말해도 될 정도로 상당수를 차지하고 있습니다.  \n",
    "\n",
    "requests.get()의 사용법은 다음과 같습니다.  \n",
    "```python3\n",
    "response=requests.get('url',params=dict,headers=dict,cookies=dict)\n",
    "```\n",
    "\n",
    "'url'에 해당하는 부분에 HTTP request를 날리고자 하는 url을 입력해 주시고,  \n",
    "만약에 쿼리 스트링을 함께 표현하고자 하는 경우에는 params에 dict로 함수 인자를 주면 됩니다.  \n",
    "또한 user-agent와 같은 header를 수정하고 싶은 경우에는 headers에,  \n",
    "쿠키를 함께 담아 요청하고 싶은 경우에는 cookies에 각각 dict로 함수인자를 주면 됩니다.  \n",
    "\n",
    "추가적인 정보는 다음 링크를 참고해주세요.  \n",
    "([Query String](https://ysoh.tistory.com/entry/Query-String), [Header](https://gmlwjd9405.github.io/2019/01/28/http-header-types.html), [Cookie](https://ko.wikipedia.org/wiki/HTTP_%EC%BF%A0%ED%82%A4))  \n",
    "\n",
    "우선 가장 친숙한 네이버의 메인 페이지(https://www.naver.com) 를 요청해보도록 하겠습니다.  "
   ]
  },
  {
   "cell_type": "code",
   "execution_count": null,
   "metadata": {},
   "outputs": [],
   "source": [
    "response=requests.get('https://www.naver.com')\n",
    "print(response.status_code)\n",
    "print(response.text)"
   ]
  },
  {
   "cell_type": "markdown",
   "metadata": {},
   "source": [
    "위 실행 결과로부터 status_code가 OK을 의미하는 200을 가지고,  \n",
    "response.text를 통해 네이버 메인 화면의 html 소스를 읽어올 수 있었습니다.  \n",
    "해당 html 소스에서 원하는 부분을 추출하는 방법은 다음 장인 BeautifulSoup4에서 다루도록 하겠습니다.  \n",
    "\n",
    "이번엔 네이버 검색을 활용하도록 하겠습니다.  \n",
    "네이버 검색창에 '경희대학교'를 검색한 후 페이지의 주소는 다음과 같습니다.  \n",
    "```\n",
    "https://search.naver.com/search.naver?sm=top_hty&fbm=0&ie=utf8&query=경희대학교\n",
    "```\n",
    "주소의 쿼리 스트링을 유심히 살펴보면 query에 해당하는 값이 이전에 검색하기 위해 입력했던 문자열임을 유추할 수 있습니다.  \n",
    "이를 토대로 사용자로부터 문자열을 입력받고 해당 문자열을 네이버를 통해 검색하는 소스코드를 실행해 봅시다.  "
   ]
  },
  {
   "cell_type": "code",
   "execution_count": null,
   "metadata": {},
   "outputs": [],
   "source": [
    "keyword=input('검색어를 입력해 주세요: ')\n",
    "response=requests.get('https://search.naver.com/search.naver',params={'sm':'top_hty','fbm':'0','ie':'utf8','query':keyword})\n",
    "response.text"
   ]
  },
  {
   "cell_type": "markdown",
   "metadata": {},
   "source": [
    "이번에는 POST method에 대해 다뤄보도록 하겠습니다.  \n",
    "requests.post()의 사용법은 다음과 같습니다.  \n",
    "```python3\n",
    "response=requests.post('url',data=dict,...)\n",
    "```\n",
    "POST 요청은 에브리타임 로그인을 실습해보도록 하겠습니다.  \n",
    "\n",
    "에브리타임 로그인은 다음의 순서로 진행됩니다.  \n",
    "1. 사용자가 http://everytime.kr/login 에 접속한다. 이때 브라우저별로 새로운 쿠키가 발급된다.\n",
    "1. 사용자가 아이디와 비밀번호를 입력한 후 로그인 버튼을 누르면 http://everytime.kr/user/login 에 {'userid':'아이디','password':'비밀번호','redirect':'/'}의 정보와 쿠키가 담겨 POST 요청이 간다.\n",
    "1. 로그인이 성공하면 서버측에서는 사용자가 제공했던 쿠키가 로그인된 사용자라고 표시한 후에 사용자를 http://everytime.kr 로 다시 이동한다.\n",
    "1. 로그인된 사용자가 보는 메인 페이지와 로그인되지 않은 사용자가 보는 everytime.kr는 다르다.\n",
    "\n",
    "우선 아래 코드를 실행해 봅시다.  "
   ]
  },
  {
   "cell_type": "code",
   "execution_count": null,
   "metadata": {},
   "outputs": [],
   "source": [
    "s=requests.Session()\n",
    "response=s.get('https://everytime.kr/login')\n",
    "print(response.cookies)"
   ]
  },
  {
   "cell_type": "markdown",
   "metadata": {},
   "source": [
    "사용자의 로그인 유지는 세션을 통해 이루어집니다.  \n",
    "첫번째 줄은 requests의 Session 객체를 생성하는 코드입니다.  \n",
    "두번째 줄은 get 요청을 하여 초기 쿠키를 받아 옵니다.  \n",
    "\n",
    "이전과 다른 점은 requests.get()이 아닌, s.get()이라는 점입니다.  \n",
    "Session 객체를 통해 쿠키와 세션을 유지할 수 있게 됩니다.\n",
    "\n",
    "추후 로그인을 진행할 때 사용할 쿠키는 response.cookies에 있습니다.  "
   ]
  },
  {
   "cell_type": "code",
   "execution_count": null,
   "metadata": {},
   "outputs": [],
   "source": [
    "from getpass import getpass\n",
    "\n",
    "userid=input('아이디:')\n",
    "password=getpass('비밀번호:')\n",
    "\n",
    "response=s.post('https://everytime.kr/user/login',data={'userid':userid,'password':password,'redirect':'/'},allow_redirects=True)\n",
    "response.text.replace('\\t','').replace('\\n','')"
   ]
  },
  {
   "cell_type": "markdown",
   "metadata": {},
   "source": [
    "첫번째 줄의 getpass 모듈의 getpass 함수는 주로 command 환경에서 비밀번호를 입력받을 때 사용하는 모듈입니다.  \n",
    "input()과 getpass()를 통하여 각각 아이디와 비밀번호를 입력받습니다.  \n",
    "\n",
    "로그인 API는 POST 방식을 사용하기 때문에 s.post()를 사용합니다.  \n",
    "실제 로그인이 이루어지는 것 처럼 userid와 password, redirect가 key인 dict를 data로 하고,  \n",
    "로그인 후 redirect까지 고려하여야 하기 때문에 allow_redirects 옵션을 True로 설정합니다.  \n",
    "\n",
    "request를 날리고 response.text를 확인하면 자신의 대학 에브리타임의 메인 페이지가 나오는것을 알 수 있습니다.  \n",
    "\n",
    "### 3-1. JSON\n",
    "이번에는 requests 모듈을 통해 받은 response를 어떻게 사용하는 지 알아보도록 하겠습니다.  \n",
    "흔히 response의 형식은 웹 페이지를 요청한 경우엔 HTML, API를 요청한 경우에는 JSON 혹은 XML로 이루어져 있습니다.  \n",
    "\n",
    "HTML과 XML은 다음장 BeautifulSoup4에서 다룰 예정이기에 이번 장에서는 스킵하고,  \n",
    "JSON을 다루는 방법에 대해 설명하도록 하겠습니다.  \n",
    "\n",
    "JSON은 python의 dict와 매우 유사한 구조를 지니고 있습니다.(key-value 형식)  \n",
    "JSON에 대한 정보는 다음 [링크](https://velog.io/@surim014/JSON%EC%9D%B4%EB%9E%80-%EB%AC%B4%EC%97%87%EC%9D%B8%EA%B0%80)를 참고해주세요.  \n",
    "\n",
    "JSON은 json 모듈을 import 하여 다룹니다.  "
   ]
  },
  {
   "cell_type": "code",
   "execution_count": null,
   "metadata": {
    "scrolled": true
   },
   "outputs": [],
   "source": [
    "import json"
   ]
  },
  {
   "cell_type": "markdown",
   "metadata": {},
   "source": [
    "JSON을 다루기 위해 JSON 형태로 response를 주는 간단한 API서버를 구축했습니다.  \n",
    "\n",
    "제공하는 API는 다음과 같습니다.  \n",
    "\n",
    "GET http://1.201.142.138/api/user/list 유저 정보 조회  \n",
    "POST http://1.201.142.138/api/user/create 유저 생성  \n",
    "\n",
    "우선 유저 생성부터 하겠습니다.  \n",
    "유저 정보에는 이름 이메일 전화번호가 들어갑니다.  \n",
    "다음 소스코드를 실행시켜 봅시다.  "
   ]
  },
  {
   "cell_type": "code",
   "execution_count": null,
   "metadata": {},
   "outputs": [],
   "source": [
    "name=input('이름을 입력하세요: ')\n",
    "email=input('이메일을 입력하세요: ')\n",
    "while not '@' in email or not '.' in email:\n",
    "    email=input('이메일의 형식이 올바르지 않습니다. 다시 입력해 주세요: ')\n",
    "phone=input('전화번호를 숫자만 입력하세요: ')\n",
    "while len(phone)!=11 or '-' in phone or not phone.isdigit():\n",
    "    phone=input('전화번호의 형식이 올바르지 않습니다. 다시 입력해 주세요: ')\n",
    "phone=phone[0:3]+'-'+phone[3:7]+'-'+phone[7:]\n",
    "\n",
    "response=requests.post('http://1.201.142.138/api/user/create',data={'name':name,'email':email,'phone':phone})\n",
    "response_json=json.loads(response.text)\n",
    "response_json"
   ]
  },
  {
   "cell_type": "markdown",
   "metadata": {},
   "source": [
    "위 소스코드는 /api/user/create에 POST 요청을 하고  \n",
    "response.text를 json.loads()라는 함수의 인자로 넣어주었습니다.  \n",
    "\n",
    "json.loads()가 하는 역할을 알아보기 위해 다음 셀을 실행해 봅시다.  "
   ]
  },
  {
   "cell_type": "code",
   "execution_count": null,
   "metadata": {},
   "outputs": [],
   "source": [
    "print(type(response.text))\n",
    "print(type(response_json))\n",
    "print(response_json['result'])"
   ]
  },
  {
   "cell_type": "markdown",
   "metadata": {},
   "source": [
    "json.loads()는 str을 입력으로 받아 dict형태로 변환해주는 역할을 합니다.  \n",
    "따라서 JSON 형태의 문자열을 파이썬에서 접근 가능하게 되었습니다.  \n",
    "\n",
    "이번에는 유저 리스트를 조회하도록 하겠습니다.  "
   ]
  },
  {
   "cell_type": "code",
   "execution_count": null,
   "metadata": {},
   "outputs": [],
   "source": [
    "response=requests.get('http://1.201.142.138/api/user/list')\n",
    "response_json=json.loads(response.text)\n",
    "print(response_json)"
   ]
  },
  {
   "cell_type": "markdown",
   "metadata": {},
   "source": [
    "위 소스코드 또한 /api/user/list에 get 요청을 하고  \n",
    "json.loads()를 통해 response.text를 dict형태로 변환하였습니다.  \n",
    "\n",
    "## 4. Assignment\n",
    "\n",
    "아래 셀에 다음 요구사항을 만족하는 소스코드를 작성해 주세요.  \n",
    "\n",
    "1. [네이버](https://www.naver.com)에 접속하여 F12-Network 탭에 들어가 네이버의 인기 검색어 순위를 나타내는 API 찾기.\n",
    "1. 해당 API를 requests 모듈을 사용하여 적절한 method로 호출.\n",
    "1. json 모듈을 이용하여 response parse\n",
    "1. 소스코드 실행 시점에서의 실시간 검색어 순위를 출력. 예) 7위: 삼성SDI"
   ]
  },
  {
   "cell_type": "code",
   "execution_count": null,
   "metadata": {},
   "outputs": [],
   "source": [
    "import requests\n",
    "import json\n",
    "\n",
    "# Write your source code here."
   ]
  }
 ],
 "metadata": {
  "kernelspec": {
   "display_name": "Python 3",
   "language": "python",
   "name": "python3"
  },
  "language_info": {
   "codemirror_mode": {
    "name": "ipython",
    "version": 3
   },
   "file_extension": ".py",
   "mimetype": "text/x-python",
   "name": "python",
   "nbconvert_exporter": "python",
   "pygments_lexer": "ipython3",
   "version": "3.7.6"
  }
 },
 "nbformat": 4,
 "nbformat_minor": 4
}
